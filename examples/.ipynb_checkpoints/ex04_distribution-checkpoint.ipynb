{
 "cells": [
  {
   "cell_type": "markdown",
   "id": "4f22d7a2",
   "metadata": {},
   "source": [
    "# Practic examples of Systools - Linear regression module¶"
   ]
  },
  {
   "cell_type": "code",
   "execution_count": 1,
   "id": "67f35312",
   "metadata": {},
   "outputs": [],
   "source": [
    "# importing\n",
    "import sys\n",
    "import os\n",
    "\n",
    "sys.path.append(os.path.abspath(os.path.join('..')))\n",
    "\n",
    "from systool import data, linreg\n",
    "import pandas as pd"
   ]
  },
  {
   "cell_type": "markdown",
   "id": "054585eb",
   "metadata": {},
   "source": [
    "*linreg* is a module to perform linear regression over a dataset.  On transport planning we may want to perform regression using multiple variables and choose the best combination. This module enables you to test all combinations (using **loop_model**)  and then you can choose the best one to analyse the details of the results (using **fit_model**)\n",
    "\n",
    "\n",
    "### First open data\n",
    "Is a good practice to check what you are reading. You can use _.head()_ to take a look on the \"head\" of the DataFrame"
   ]
  },
  {
   "cell_type": "code",
   "execution_count": 2,
   "id": "e22e40c6",
   "metadata": {},
   "outputs": [
    {
     "data": {
      "text/html": [
       "<div>\n",
       "<style scoped>\n",
       "    .dataframe tbody tr th:only-of-type {\n",
       "        vertical-align: middle;\n",
       "    }\n",
       "\n",
       "    .dataframe tbody tr th {\n",
       "        vertical-align: top;\n",
       "    }\n",
       "\n",
       "    .dataframe thead th {\n",
       "        text-align: right;\n",
       "    }\n",
       "</style>\n",
       "<table border=\"1\" class=\"dataframe\">\n",
       "  <thead>\n",
       "    <tr style=\"text-align: right;\">\n",
       "      <th></th>\n",
       "      <th>ZONA</th>\n",
       "      <th>ATRA</th>\n",
       "      <th>PROD</th>\n",
       "    </tr>\n",
       "  </thead>\n",
       "  <tbody>\n",
       "    <tr>\n",
       "      <th>0</th>\n",
       "      <td>1</td>\n",
       "      <td>34768</td>\n",
       "      <td>45430</td>\n",
       "    </tr>\n",
       "    <tr>\n",
       "      <th>1</th>\n",
       "      <td>2</td>\n",
       "      <td>61501</td>\n",
       "      <td>58691</td>\n",
       "    </tr>\n",
       "    <tr>\n",
       "      <th>2</th>\n",
       "      <td>3</td>\n",
       "      <td>25362</td>\n",
       "      <td>35433</td>\n",
       "    </tr>\n",
       "    <tr>\n",
       "      <th>3</th>\n",
       "      <td>4</td>\n",
       "      <td>97055</td>\n",
       "      <td>96527</td>\n",
       "    </tr>\n",
       "    <tr>\n",
       "      <th>4</th>\n",
       "      <td>5</td>\n",
       "      <td>35215</td>\n",
       "      <td>66098</td>\n",
       "    </tr>\n",
       "  </tbody>\n",
       "</table>\n",
       "</div>"
      ],
      "text/plain": [
       "   ZONA   ATRA   PROD\n",
       "0     1  34768  45430\n",
       "1     2  61501  58691\n",
       "2     3  25362  35433\n",
       "3     4  97055  96527\n",
       "4     5  35215  66098"
      ]
     },
     "execution_count": 2,
     "metadata": {},
     "output_type": "execute_result"
    }
   ],
   "source": [
    "df_trip = data.open_file('examples_databases\\input_geracao.xlsx', kwargs={'sheet_name':'VIAGENS'})\n",
    "df_trip.head()"
   ]
  },
  {
   "cell_type": "markdown",
   "id": "8953d317",
   "metadata": {},
   "source": [
    "or use _.info()_ to also check the dtypes"
   ]
  },
  {
   "cell_type": "code",
   "execution_count": 3,
   "id": "8952a5a5",
   "metadata": {},
   "outputs": [
    {
     "name": "stdout",
     "output_type": "stream",
     "text": [
      "<class 'pandas.core.frame.DataFrame'>\n",
      "Int64Index: 119 entries, 0 to 118\n",
      "Data columns (total 6 columns):\n",
      " #   Column      Non-Null Count  Dtype\n",
      "---  ------      --------------  -----\n",
      " 0   ZONAS       119 non-null    int64\n",
      " 1   EMPREGOS    119 non-null    int64\n",
      " 2   ENSINO      119 non-null    int64\n",
      " 3   POP         119 non-null    int64\n",
      " 4   DOMICILIOS  119 non-null    int64\n",
      " 5   PEA         119 non-null    int64\n",
      "dtypes: int64(6)\n",
      "memory usage: 6.5 KB\n"
     ]
    }
   ],
   "source": [
    "df_data = data.open_file('examples_databases\\input_geracao.xlsx', kwargs={'sheet_name':'DADOS'})\n",
    "df_data.info()"
   ]
  },
  {
   "cell_type": "code",
   "execution_count": 4,
   "id": "86705675",
   "metadata": {},
   "outputs": [
    {
     "data": {
      "text/html": [
       "<div>\n",
       "<style scoped>\n",
       "    .dataframe tbody tr th:only-of-type {\n",
       "        vertical-align: middle;\n",
       "    }\n",
       "\n",
       "    .dataframe tbody tr th {\n",
       "        vertical-align: top;\n",
       "    }\n",
       "\n",
       "    .dataframe thead th {\n",
       "        text-align: right;\n",
       "    }\n",
       "</style>\n",
       "<table border=\"1\" class=\"dataframe\">\n",
       "  <thead>\n",
       "    <tr style=\"text-align: right;\">\n",
       "      <th></th>\n",
       "      <th>ZONA</th>\n",
       "      <th>ATRA</th>\n",
       "      <th>PROD</th>\n",
       "      <th>EMPREGOS</th>\n",
       "      <th>ENSINO</th>\n",
       "      <th>POP</th>\n",
       "      <th>DOMICILIOS</th>\n",
       "      <th>PEA</th>\n",
       "    </tr>\n",
       "  </thead>\n",
       "  <tbody>\n",
       "    <tr>\n",
       "      <th>0</th>\n",
       "      <td>1</td>\n",
       "      <td>34768</td>\n",
       "      <td>45430</td>\n",
       "      <td>42585</td>\n",
       "      <td>327</td>\n",
       "      <td>483330</td>\n",
       "      <td>132420</td>\n",
       "      <td>473457</td>\n",
       "    </tr>\n",
       "    <tr>\n",
       "      <th>1</th>\n",
       "      <td>2</td>\n",
       "      <td>61501</td>\n",
       "      <td>58691</td>\n",
       "      <td>230621</td>\n",
       "      <td>697</td>\n",
       "      <td>855048</td>\n",
       "      <td>705679</td>\n",
       "      <td>141116</td>\n",
       "    </tr>\n",
       "    <tr>\n",
       "      <th>2</th>\n",
       "      <td>3</td>\n",
       "      <td>25362</td>\n",
       "      <td>35433</td>\n",
       "      <td>41957</td>\n",
       "      <td>264</td>\n",
       "      <td>325801</td>\n",
       "      <td>122293</td>\n",
       "      <td>91585</td>\n",
       "    </tr>\n",
       "    <tr>\n",
       "      <th>3</th>\n",
       "      <td>4</td>\n",
       "      <td>97055</td>\n",
       "      <td>96527</td>\n",
       "      <td>156704</td>\n",
       "      <td>673</td>\n",
       "      <td>1000086</td>\n",
       "      <td>829397</td>\n",
       "      <td>399884</td>\n",
       "    </tr>\n",
       "    <tr>\n",
       "      <th>4</th>\n",
       "      <td>5</td>\n",
       "      <td>35215</td>\n",
       "      <td>66098</td>\n",
       "      <td>60290</td>\n",
       "      <td>273</td>\n",
       "      <td>412396</td>\n",
       "      <td>348140</td>\n",
       "      <td>96418</td>\n",
       "    </tr>\n",
       "  </tbody>\n",
       "</table>\n",
       "</div>"
      ],
      "text/plain": [
       "   ZONA   ATRA   PROD  EMPREGOS  ENSINO      POP  DOMICILIOS     PEA\n",
       "0     1  34768  45430     42585     327   483330      132420  473457\n",
       "1     2  61501  58691    230621     697   855048      705679  141116\n",
       "2     3  25362  35433     41957     264   325801      122293   91585\n",
       "3     4  97055  96527    156704     673  1000086      829397  399884\n",
       "4     5  35215  66098     60290     273   412396      348140   96418"
      ]
     },
     "execution_count": 4,
     "metadata": {},
     "output_type": "execute_result"
    }
   ],
   "source": [
    "df = df_trip.merge(df_data.rename(columns={'ZONAS':'ZONA'}), how='outer')\n",
    "df.head()"
   ]
  },
  {
   "cell_type": "markdown",
   "id": "effa892f",
   "metadata": {},
   "source": [
    "## ATRACTION\n",
    "### Loop for all possibilities"
   ]
  },
  {
   "cell_type": "markdown",
   "id": "79f0934d",
   "metadata": {},
   "source": [
    "Perform a loop and find all possibilities that are significant\n",
    "* User parameter *mask* to remove zones that you want to treat as default outliers (airports zones for example)\n",
    "* *keepAll = True* returns even regressions that are not significant (with R^2 < CUT_R)"
   ]
  },
  {
   "cell_type": "code",
   "execution_count": 9,
   "id": "612d5936",
   "metadata": {},
   "outputs": [
    {
     "name": "stdout",
     "output_type": "stream",
     "text": [
      "Default regressions performed with 100.0% of data\n"
     ]
    },
    {
     "name": "stderr",
     "output_type": "stream",
     "text": [
      "Getting combinations for all variables: 100%|████████████████████████████████████████████████████| 3/3 [00:00<?, ?it/s]\n"
     ]
    },
    {
     "name": "stdout",
     "output_type": "stream",
     "text": [
      "6 possibilites of regression to do!\n",
      "Get correlated pairs...\n"
     ]
    },
    {
     "name": "stderr",
     "output_type": "stream",
     "text": [
      "Droping combinations with correlated values...: 100%|██████████████████████████████████| 3/3 [00:00<00:00, 1000.07it/s]\n"
     ]
    },
    {
     "name": "stdout",
     "output_type": "stream",
     "text": [
      "3 non-correlated possibilities to do!\n"
     ]
    },
    {
     "name": "stderr",
     "output_type": "stream",
     "text": [
      "Making regressions...: 100%|█████████████████████████████████████████████████████████████| 3/3 [00:02<00:00,  1.12it/s]"
     ]
    },
    {
     "name": "stdout",
     "output_type": "stream",
     "text": [
      "    6 regressões decentes (R² > 0.5) foram geradas\n",
      "    1 regressões passaram nos testes\n"
     ]
    },
    {
     "name": "stderr",
     "output_type": "stream",
     "text": [
      "\n"
     ]
    },
    {
     "data": {
      "text/html": [
       "<div>\n",
       "<style scoped>\n",
       "    .dataframe tbody tr th:only-of-type {\n",
       "        vertical-align: middle;\n",
       "    }\n",
       "\n",
       "    .dataframe tbody tr th {\n",
       "        vertical-align: top;\n",
       "    }\n",
       "\n",
       "    .dataframe thead th {\n",
       "        text-align: right;\n",
       "    }\n",
       "</style>\n",
       "<table border=\"1\" class=\"dataframe\">\n",
       "  <thead>\n",
       "    <tr style=\"text-align: right;\">\n",
       "      <th></th>\n",
       "      <th>x</th>\n",
       "      <th>Rsquared</th>\n",
       "      <th>intercept</th>\n",
       "      <th>covType</th>\n",
       "      <th>ZONAS</th>\n",
       "      <th>PASS_TESTS</th>\n",
       "      <th>NUM_COEF_NEGATIVO</th>\n",
       "      <th>DURBIN_WATSON</th>\n",
       "      <th>HARVEY_COLLIER</th>\n",
       "      <th>MEAN_KDE</th>\n",
       "      <th>STD_KDE</th>\n",
       "      <th>numXvars</th>\n",
       "      <th>numZones</th>\n",
       "    </tr>\n",
       "  </thead>\n",
       "  <tbody>\n",
       "    <tr>\n",
       "      <th>1</th>\n",
       "      <td>[EMPREGOS]</td>\n",
       "      <td>0.9302</td>\n",
       "      <td>False</td>\n",
       "      <td>nonrobust</td>\n",
       "      <td>[70, 99, 26, 110, 27, 37, 30, 83, 72, 20, 24, ...</td>\n",
       "      <td>SIM</td>\n",
       "      <td>0</td>\n",
       "      <td>1.632420</td>\n",
       "      <td>0.329584</td>\n",
       "      <td>-943.650259</td>\n",
       "      <td>19880.458514</td>\n",
       "      <td>1</td>\n",
       "      <td>113</td>\n",
       "    </tr>\n",
       "    <tr>\n",
       "      <th>3</th>\n",
       "      <td>[ENSINO]</td>\n",
       "      <td>0.9274</td>\n",
       "      <td>False</td>\n",
       "      <td>nonrobust</td>\n",
       "      <td>[110, 64, 107, 116, 26, 118, 109, 56, 23, 35, ...</td>\n",
       "      <td>NOP</td>\n",
       "      <td>0</td>\n",
       "      <td>1.790375</td>\n",
       "      <td>0.006173</td>\n",
       "      <td>7217.215502</td>\n",
       "      <td>22006.776588</td>\n",
       "      <td>1</td>\n",
       "      <td>117</td>\n",
       "    </tr>\n",
       "    <tr>\n",
       "      <th>5</th>\n",
       "      <td>[PEA]</td>\n",
       "      <td>0.9041</td>\n",
       "      <td>False</td>\n",
       "      <td>nonrobust</td>\n",
       "      <td>[70, 41, 82, 102, 26, 78, 64, 86, 109, 108, 39...</td>\n",
       "      <td>NOP</td>\n",
       "      <td>0</td>\n",
       "      <td>2.210049</td>\n",
       "      <td>0.005619</td>\n",
       "      <td>-911.072931</td>\n",
       "      <td>17667.629187</td>\n",
       "      <td>1</td>\n",
       "      <td>115</td>\n",
       "    </tr>\n",
       "    <tr>\n",
       "      <th>0</th>\n",
       "      <td>[EMPREGOS]</td>\n",
       "      <td>0.8125</td>\n",
       "      <td>False</td>\n",
       "      <td>nonrobust</td>\n",
       "      <td>[0, 1, 2, 3, 4, 5, 6, 7, 8, 9, 10, 11, 12, 13,...</td>\n",
       "      <td>NOP</td>\n",
       "      <td>0</td>\n",
       "      <td>1.254711</td>\n",
       "      <td>0.011109</td>\n",
       "      <td>1357.885894</td>\n",
       "      <td>56709.089683</td>\n",
       "      <td>1</td>\n",
       "      <td>119</td>\n",
       "    </tr>\n",
       "    <tr>\n",
       "      <th>2</th>\n",
       "      <td>[ENSINO]</td>\n",
       "      <td>0.7933</td>\n",
       "      <td>False</td>\n",
       "      <td>nonrobust</td>\n",
       "      <td>[0, 1, 2, 3, 4, 5, 6, 7, 8, 9, 10, 11, 12, 13,...</td>\n",
       "      <td>NOP</td>\n",
       "      <td>0</td>\n",
       "      <td>1.430210</td>\n",
       "      <td>0.021424</td>\n",
       "      <td>31149.233812</td>\n",
       "      <td>64325.381344</td>\n",
       "      <td>1</td>\n",
       "      <td>119</td>\n",
       "    </tr>\n",
       "    <tr>\n",
       "      <th>4</th>\n",
       "      <td>[PEA]</td>\n",
       "      <td>0.6072</td>\n",
       "      <td>False</td>\n",
       "      <td>nonrobust</td>\n",
       "      <td>[0, 1, 2, 3, 4, 5, 6, 7, 8, 9, 10, 11, 12, 13,...</td>\n",
       "      <td>NOP</td>\n",
       "      <td>0</td>\n",
       "      <td>1.799833</td>\n",
       "      <td>0.040190</td>\n",
       "      <td>27051.466306</td>\n",
       "      <td>99409.185748</td>\n",
       "      <td>1</td>\n",
       "      <td>119</td>\n",
       "    </tr>\n",
       "  </tbody>\n",
       "</table>\n",
       "</div>"
      ],
      "text/plain": [
       "            x  Rsquared intercept    covType  \\\n",
       "1  [EMPREGOS]    0.9302     False  nonrobust   \n",
       "3    [ENSINO]    0.9274     False  nonrobust   \n",
       "5       [PEA]    0.9041     False  nonrobust   \n",
       "0  [EMPREGOS]    0.8125     False  nonrobust   \n",
       "2    [ENSINO]    0.7933     False  nonrobust   \n",
       "4       [PEA]    0.6072     False  nonrobust   \n",
       "\n",
       "                                               ZONAS PASS_TESTS  \\\n",
       "1  [70, 99, 26, 110, 27, 37, 30, 83, 72, 20, 24, ...        SIM   \n",
       "3  [110, 64, 107, 116, 26, 118, 109, 56, 23, 35, ...        NOP   \n",
       "5  [70, 41, 82, 102, 26, 78, 64, 86, 109, 108, 39...        NOP   \n",
       "0  [0, 1, 2, 3, 4, 5, 6, 7, 8, 9, 10, 11, 12, 13,...        NOP   \n",
       "2  [0, 1, 2, 3, 4, 5, 6, 7, 8, 9, 10, 11, 12, 13,...        NOP   \n",
       "4  [0, 1, 2, 3, 4, 5, 6, 7, 8, 9, 10, 11, 12, 13,...        NOP   \n",
       "\n",
       "  NUM_COEF_NEGATIVO  DURBIN_WATSON  HARVEY_COLLIER      MEAN_KDE  \\\n",
       "1                 0       1.632420        0.329584   -943.650259   \n",
       "3                 0       1.790375        0.006173   7217.215502   \n",
       "5                 0       2.210049        0.005619   -911.072931   \n",
       "0                 0       1.254711        0.011109   1357.885894   \n",
       "2                 0       1.430210        0.021424  31149.233812   \n",
       "4                 0       1.799833        0.040190  27051.466306   \n",
       "\n",
       "        STD_KDE  numXvars  numZones  \n",
       "1  19880.458514         1       113  \n",
       "3  22006.776588         1       117  \n",
       "5  17667.629187         1       115  \n",
       "0  56709.089683         1       119  \n",
       "2  64325.381344         1       119  \n",
       "4  99409.185748         1       119  "
      ]
     },
     "execution_count": 9,
     "metadata": {},
     "output_type": "execute_result"
    },
    {
     "data": {
      "image/png": "[encoded data removed]",
      "text/plain": [
       "<Figure size 432x288 with 1 Axes>"
      ]
     },
     "metadata": {},
     "output_type": "display_data"
    },
    {
     "data": {
      "image/png": "[encoded data removed]",
      "text/plain": [
       "<Figure size 432x288 with 2 Axes>"
      ]
     },
     "metadata": {},
     "output_type": "display_data"
    }
   ],
   "source": [
    "df_regs = linreg.loop_models(df, Xcols=['EMPREGOS','ENSINO','PEA'], Ycol='ATRA', mask=None, keepAll=True, CUT_R=0.5, force_intercept=False)\n",
    "df_regs"
   ]
  },
  {
   "cell_type": "markdown",
   "id": "a25d2612",
   "metadata": {},
   "source": [
    "### Choose better regression and get a report\n",
    "Use result to choose a nice regression and look all statistical results (*plot=True*) on a fancy HTML saved on *path*. "
   ]
  },
  {
   "cell_type": "code",
   "execution_count": 11,
   "id": "dad0d50a",
   "metadata": {},
   "outputs": [
    {
     "name": "stdout",
     "output_type": "stream",
     "text": [
      "Durbin-Watson 1.2547105430879522\n",
      "Durbin-Watson 1.6324201026503253\n"
     ]
    },
    {
     "data": {
      "text/plain": [
       "EMPREGOS    0.297597\n",
       "dtype: float64"
      ]
     },
     "execution_count": 11,
     "metadata": {},
     "output_type": "execute_result"
    },
    {
     "data": {
      "text/plain": [
       "<Figure size 1920x1080 with 0 Axes>"
      ]
     },
     "metadata": {},
     "output_type": "display_data"
    },
    {
     "data": {
      "image/png": "[encoded data removed]",
      "text/plain": [
       "<Figure size 432x288 with 1 Axes>"
      ]
     },
     "metadata": {},
     "output_type": "display_data"
    }
   ],
   "source": [
    "model, model_out = linreg.fit_model(x=df[['EMPREGOS']], y=df['ATRA'], intercept=False, plot=True, path=os.getcwd())\n",
    "# model and model_out are *statsmodels 0.14.0 (+400)statsmodels.regression.linear_model.OLS* objects\n",
    "# model is the compleate model, with all the zones send to fit_model\n",
    "# model_out is the original model without outliers, chosen within a renge of removing upuntil 10% of records and choosing for the best one\n",
    "# check out the HTML file for better understanding\n",
    "model.params"
   ]
  },
  {
   "cell_type": "markdown",
   "id": "bf8aaaa0",
   "metadata": {},
   "source": [
    "## PRODUCTION\n",
    "Repeate the process"
   ]
  },
  {
   "cell_type": "code",
   "execution_count": 15,
   "id": "e80e49bd",
   "metadata": {},
   "outputs": [
    {
     "name": "stdout",
     "output_type": "stream",
     "text": [
      "Default regressions performed with 100.0% of data\n"
     ]
    },
    {
     "name": "stderr",
     "output_type": "stream",
     "text": [
      "Getting combinations for all variables: 100%|██████████████████████████████████████████| 3/3 [00:00<00:00, 3000.22it/s]\n"
     ]
    },
    {
     "name": "stdout",
     "output_type": "stream",
     "text": [
      "6 possibilites of regression to do!\n",
      "Get correlated pairs...\n"
     ]
    },
    {
     "name": "stderr",
     "output_type": "stream",
     "text": [
      "Droping combinations with correlated values...: 100%|██████████████████████████████████| 2/2 [00:00<00:00, 1000.07it/s]\n"
     ]
    },
    {
     "name": "stdout",
     "output_type": "stream",
     "text": [
      "4 non-correlated possibilities to do!\n"
     ]
    },
    {
     "name": "stderr",
     "output_type": "stream",
     "text": [
      "Making regressions...: 100%|█████████████████████████████████████████████████████████████| 4/4 [00:03<00:00,  1.12it/s]"
     ]
    },
    {
     "name": "stdout",
     "output_type": "stream",
     "text": [
      "    8 regressões decentes (R² > 0.5) foram geradas\n",
      "    4 regressões passaram nos testes\n"
     ]
    },
    {
     "name": "stderr",
     "output_type": "stream",
     "text": [
      "\n"
     ]
    },
    {
     "data": {
      "text/html": [
       "<div>\n",
       "<style scoped>\n",
       "    .dataframe tbody tr th:only-of-type {\n",
       "        vertical-align: middle;\n",
       "    }\n",
       "\n",
       "    .dataframe tbody tr th {\n",
       "        vertical-align: top;\n",
       "    }\n",
       "\n",
       "    .dataframe thead th {\n",
       "        text-align: right;\n",
       "    }\n",
       "</style>\n",
       "<table border=\"1\" class=\"dataframe\">\n",
       "  <thead>\n",
       "    <tr style=\"text-align: right;\">\n",
       "      <th></th>\n",
       "      <th>x</th>\n",
       "      <th>Rsquared</th>\n",
       "      <th>intercept</th>\n",
       "      <th>covType</th>\n",
       "      <th>ZONAS</th>\n",
       "      <th>PASS_TESTS</th>\n",
       "      <th>NUM_COEF_NEGATIVO</th>\n",
       "      <th>DURBIN_WATSON</th>\n",
       "      <th>HARVEY_COLLIER</th>\n",
       "      <th>MEAN_KDE</th>\n",
       "      <th>STD_KDE</th>\n",
       "      <th>numXvars</th>\n",
       "      <th>numZones</th>\n",
       "    </tr>\n",
       "  </thead>\n",
       "  <tbody>\n",
       "    <tr>\n",
       "      <th>2</th>\n",
       "      <td>[POP]</td>\n",
       "      <td>0.9663</td>\n",
       "      <td>False</td>\n",
       "      <td>nonrobust</td>\n",
       "      <td>[0, 1, 2, 3, 4, 5, 6, 7, 8, 9, 10, 11, 12, 13,...</td>\n",
       "      <td>SIM</td>\n",
       "      <td>0</td>\n",
       "      <td>1.348399</td>\n",
       "      <td>0.255806</td>\n",
       "      <td>6738.698827</td>\n",
       "      <td>29030.687595</td>\n",
       "      <td>1</td>\n",
       "      <td>119</td>\n",
       "    </tr>\n",
       "    <tr>\n",
       "      <th>7</th>\n",
       "      <td>[PEA]</td>\n",
       "      <td>0.9278</td>\n",
       "      <td>False</td>\n",
       "      <td>nonrobust</td>\n",
       "      <td>[101, 54, 63, 65, 39, 56, 94, 68, 52, 38, 90, ...</td>\n",
       "      <td>SIM</td>\n",
       "      <td>0</td>\n",
       "      <td>1.426665</td>\n",
       "      <td>0.480486</td>\n",
       "      <td>666.283654</td>\n",
       "      <td>18990.481039</td>\n",
       "      <td>1</td>\n",
       "      <td>114</td>\n",
       "    </tr>\n",
       "    <tr>\n",
       "      <th>0</th>\n",
       "      <td>[DOMICILIOS, PEA]</td>\n",
       "      <td>0.8680</td>\n",
       "      <td>False</td>\n",
       "      <td>nonrobust</td>\n",
       "      <td>[0, 1, 2, 3, 4, 5, 6, 7, 8, 9, 10, 11, 12, 13,...</td>\n",
       "      <td>SIM</td>\n",
       "      <td>0</td>\n",
       "      <td>2.446698</td>\n",
       "      <td>0.504698</td>\n",
       "      <td>12993.806672</td>\n",
       "      <td>56319.760351</td>\n",
       "      <td>2</td>\n",
       "      <td>119</td>\n",
       "    </tr>\n",
       "    <tr>\n",
       "      <th>6</th>\n",
       "      <td>[PEA]</td>\n",
       "      <td>0.6049</td>\n",
       "      <td>False</td>\n",
       "      <td>nonrobust</td>\n",
       "      <td>[0, 1, 2, 3, 4, 5, 6, 7, 8, 9, 10, 11, 12, 13,...</td>\n",
       "      <td>SIM</td>\n",
       "      <td>0</td>\n",
       "      <td>1.532843</td>\n",
       "      <td>0.208392</td>\n",
       "      <td>34685.492026</td>\n",
       "      <td>107733.235333</td>\n",
       "      <td>1</td>\n",
       "      <td>119</td>\n",
       "    </tr>\n",
       "  </tbody>\n",
       "</table>\n",
       "</div>"
      ],
      "text/plain": [
       "                   x  Rsquared intercept    covType  \\\n",
       "2              [POP]    0.9663     False  nonrobust   \n",
       "7              [PEA]    0.9278     False  nonrobust   \n",
       "0  [DOMICILIOS, PEA]    0.8680     False  nonrobust   \n",
       "6              [PEA]    0.6049     False  nonrobust   \n",
       "\n",
       "                                               ZONAS PASS_TESTS  \\\n",
       "2  [0, 1, 2, 3, 4, 5, 6, 7, 8, 9, 10, 11, 12, 13,...        SIM   \n",
       "7  [101, 54, 63, 65, 39, 56, 94, 68, 52, 38, 90, ...        SIM   \n",
       "0  [0, 1, 2, 3, 4, 5, 6, 7, 8, 9, 10, 11, 12, 13,...        SIM   \n",
       "6  [0, 1, 2, 3, 4, 5, 6, 7, 8, 9, 10, 11, 12, 13,...        SIM   \n",
       "\n",
       "  NUM_COEF_NEGATIVO  DURBIN_WATSON  HARVEY_COLLIER      MEAN_KDE  \\\n",
       "2                 0       1.348399        0.255806   6738.698827   \n",
       "7                 0       1.426665        0.480486    666.283654   \n",
       "0                 0       2.446698        0.504698  12993.806672   \n",
       "6                 0       1.532843        0.208392  34685.492026   \n",
       "\n",
       "         STD_KDE  numXvars  numZones  \n",
       "2   29030.687595         1       119  \n",
       "7   18990.481039         1       114  \n",
       "0   56319.760351         2       119  \n",
       "6  107733.235333         1       119  "
      ]
     },
     "execution_count": 15,
     "metadata": {},
     "output_type": "execute_result"
    },
    {
     "data": {
      "image/png": "[encoded data removed]",
      "text/plain": [
       "<Figure size 432x288 with 1 Axes>"
      ]
     },
     "metadata": {},
     "output_type": "display_data"
    },
    {
     "data": {
      "image/png": "[encoded data removed]",
      "text/plain": [
       "<Figure size 432x288 with 2 Axes>"
      ]
     },
     "metadata": {},
     "output_type": "display_data"
    }
   ],
   "source": [
    "df_regs = linreg.loop_models(df, Xcols=['POP', 'DOMICILIOS','PEA'], Ycol='PROD', mask=None, keepAll=False, CUT_R=0.5, force_intercept=False)\n",
    "df_regs"
   ]
  },
  {
   "cell_type": "code",
   "execution_count": 17,
   "id": "15db1ba3",
   "metadata": {},
   "outputs": [
    {
     "name": "stdout",
     "output_type": "stream",
     "text": [
      "Durbin-Watson 1.9389377040819786\n",
      "Durbin-Watson 1.3716775881909964\n"
     ]
    },
    {
     "data": {
      "text/plain": [
       "<Figure size 1920x1080 with 0 Axes>"
      ]
     },
     "metadata": {},
     "output_type": "display_data"
    },
    {
     "data": {
      "image/png": "[encoded data removed]",
      "text/plain": [
       "<Figure size 432x288 with 1 Axes>"
      ]
     },
     "metadata": {},
     "output_type": "display_data"
    }
   ],
   "source": [
    "# you can even check a regression that is not on the result above\n",
    "model, model_out = linreg.fit_model(x=df[['POP', 'DOMICILIOS', 'PEA']], y=df['PROD'], intercept=True, plot=True, path=os.getcwd())\n"
   ]
  },
  {
   "cell_type": "code",
   "execution_count": null,
   "id": "3d825814",
   "metadata": {},
   "outputs": [],
   "source": []
  }
 ],
 "metadata": {
  "kernelspec": {
   "display_name": "Python 3 (ipykernel)",
   "language": "python",
   "name": "python3"
  },
  "language_info": {
   "codemirror_mode": {
    "name": "ipython",
    "version": 3
   },
   "file_extension": ".py",
   "mimetype": "text/x-python",
   "name": "python",
   "nbconvert_exporter": "python",
   "pygments_lexer": "ipython3",
   "version": "3.7.11"
  }
 },
 "nbformat": 4,
 "nbformat_minor": 5
}
