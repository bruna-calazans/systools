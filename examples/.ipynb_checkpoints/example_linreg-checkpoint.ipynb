{
 "cells": [
  {
   "cell_type": "markdown",
   "id": "4f22d7a2",
   "metadata": {},
   "source": [
    "# Practic examples of Systools - Linear regression module¶"
   ]
  },
  {
   "cell_type": "code",
   "execution_count": 19,
   "id": "67f35312",
   "metadata": {},
   "outputs": [
    {
     "ename": "ModuleNotFoundError",
     "evalue": "No module named 'helpers'",
     "output_type": "error",
     "traceback": [
      "\u001b[1;31m---------------------------------------------------------------------------\u001b[0m",
      "\u001b[1;31mModuleNotFoundError\u001b[0m                       Traceback (most recent call last)",
      "\u001b[1;32m~\\AppData\\Local\\Temp\\ipykernel_7996\\1998975892.py\u001b[0m in \u001b[0;36m<module>\u001b[1;34m\u001b[0m\n\u001b[0;32m      5\u001b[0m \u001b[0msys\u001b[0m\u001b[1;33m.\u001b[0m\u001b[0mpath\u001b[0m\u001b[1;33m.\u001b[0m\u001b[0mappend\u001b[0m\u001b[1;33m(\u001b[0m\u001b[0mos\u001b[0m\u001b[1;33m.\u001b[0m\u001b[0mpath\u001b[0m\u001b[1;33m.\u001b[0m\u001b[0mabspath\u001b[0m\u001b[1;33m(\u001b[0m\u001b[0mos\u001b[0m\u001b[1;33m.\u001b[0m\u001b[0mpath\u001b[0m\u001b[1;33m.\u001b[0m\u001b[0mjoin\u001b[0m\u001b[1;33m(\u001b[0m\u001b[1;34m'..'\u001b[0m\u001b[1;33m)\u001b[0m\u001b[1;33m)\u001b[0m\u001b[1;33m)\u001b[0m\u001b[1;33m\u001b[0m\u001b[1;33m\u001b[0m\u001b[0m\n\u001b[0;32m      6\u001b[0m \u001b[1;33m\u001b[0m\u001b[0m\n\u001b[1;32m----> 7\u001b[1;33m \u001b[1;32mfrom\u001b[0m \u001b[0msystool\u001b[0m \u001b[1;32mimport\u001b[0m \u001b[0mdata\u001b[0m\u001b[1;33m,\u001b[0m \u001b[0mlinreg\u001b[0m\u001b[1;33m\u001b[0m\u001b[1;33m\u001b[0m\u001b[0m\n\u001b[0m\u001b[0;32m      8\u001b[0m \u001b[1;32mimport\u001b[0m \u001b[0mpandas\u001b[0m \u001b[1;32mas\u001b[0m \u001b[0mpd\u001b[0m\u001b[1;33m\u001b[0m\u001b[1;33m\u001b[0m\u001b[0m\n",
      "\u001b[1;32mC:\\python\\systools\\systool\\linreg.py\u001b[0m in \u001b[0;36m<module>\u001b[1;34m\u001b[0m\n\u001b[0;32m     25\u001b[0m \u001b[1;33m\u001b[0m\u001b[0m\n\u001b[0;32m     26\u001b[0m \u001b[1;31m# systool modules\u001b[0m\u001b[1;33m\u001b[0m\u001b[1;33m\u001b[0m\u001b[1;33m\u001b[0m\u001b[0m\n\u001b[1;32m---> 27\u001b[1;33m \u001b[1;32mimport\u001b[0m \u001b[0mhelpers\u001b[0m\u001b[1;33m.\u001b[0m\u001b[0mlinear_regression_make\u001b[0m \u001b[1;32mas\u001b[0m \u001b[0mlrm\u001b[0m\u001b[1;33m\u001b[0m\u001b[1;33m\u001b[0m\u001b[0m\n\u001b[0m\u001b[0;32m     28\u001b[0m \u001b[1;32mfrom\u001b[0m \u001b[0mhelpers\u001b[0m\u001b[1;33m.\u001b[0m\u001b[0mlinear_regression_plot\u001b[0m \u001b[1;32mimport\u001b[0m \u001b[0mplot_regression\u001b[0m\u001b[1;33m,\u001b[0m \u001b[0mgive_name\u001b[0m\u001b[1;33m\u001b[0m\u001b[1;33m\u001b[0m\u001b[0m\n\u001b[0;32m     29\u001b[0m \u001b[1;32mimport\u001b[0m \u001b[0mreport\u001b[0m\u001b[1;33m\u001b[0m\u001b[1;33m\u001b[0m\u001b[0m\n",
      "\u001b[1;31mModuleNotFoundError\u001b[0m: No module named 'helpers'"
     ]
    }
   ],
   "source": [
    "# importing\n",
    "import sys\n",
    "import os\n",
    "\n",
    "sys.path.append(os.path.abspath(os.path.join('..')))\n",
    "\n",
    "from systool import data, linreg\n",
    "import pandas as pd"
   ]
  },
  {
   "cell_type": "markdown",
   "id": "054585eb",
   "metadata": {},
   "source": [
    "*linreg* is a module to perform linear regression over a dataset.  On transport planning we may want to perform regression using multiple variables and choose the best combination. This module enables you to test all combinations (using **loop_modesl**)  and then you can choose the best one to analyse the details of the results (using **fit_model**)\n",
    "\n",
    "\n",
    "### First open data"
   ]
  },
  {
   "cell_type": "code",
   "execution_count": 12,
   "id": "e22e40c6",
   "metadata": {},
   "outputs": [
    {
     "data": {
      "text/html": [
       "<div>\n",
       "<style scoped>\n",
       "    .dataframe tbody tr th:only-of-type {\n",
       "        vertical-align: middle;\n",
       "    }\n",
       "\n",
       "    .dataframe tbody tr th {\n",
       "        vertical-align: top;\n",
       "    }\n",
       "\n",
       "    .dataframe thead th {\n",
       "        text-align: right;\n",
       "    }\n",
       "</style>\n",
       "<table border=\"1\" class=\"dataframe\">\n",
       "  <thead>\n",
       "    <tr style=\"text-align: right;\">\n",
       "      <th></th>\n",
       "      <th>ZONA</th>\n",
       "      <th>ATRA</th>\n",
       "      <th>PROD</th>\n",
       "    </tr>\n",
       "  </thead>\n",
       "  <tbody>\n",
       "    <tr>\n",
       "      <th>0</th>\n",
       "      <td>1</td>\n",
       "      <td>34768</td>\n",
       "      <td>45430</td>\n",
       "    </tr>\n",
       "    <tr>\n",
       "      <th>1</th>\n",
       "      <td>2</td>\n",
       "      <td>61501</td>\n",
       "      <td>58691</td>\n",
       "    </tr>\n",
       "    <tr>\n",
       "      <th>2</th>\n",
       "      <td>3</td>\n",
       "      <td>25362</td>\n",
       "      <td>35433</td>\n",
       "    </tr>\n",
       "    <tr>\n",
       "      <th>3</th>\n",
       "      <td>4</td>\n",
       "      <td>97055</td>\n",
       "      <td>96527</td>\n",
       "    </tr>\n",
       "    <tr>\n",
       "      <th>4</th>\n",
       "      <td>5</td>\n",
       "      <td>35215</td>\n",
       "      <td>66098</td>\n",
       "    </tr>\n",
       "  </tbody>\n",
       "</table>\n",
       "</div>"
      ],
      "text/plain": [
       "   ZONA   ATRA   PROD\n",
       "0     1  34768  45430\n",
       "1     2  61501  58691\n",
       "2     3  25362  35433\n",
       "3     4  97055  96527\n",
       "4     5  35215  66098"
      ]
     },
     "execution_count": 12,
     "metadata": {},
     "output_type": "execute_result"
    }
   ],
   "source": [
    "df_trip = data.open_file('examples_databases\\input_geracao.xlsx', kwargs={'sheet_name':'VIAGENS'})\n",
    "df_trip.head()"
   ]
  },
  {
   "cell_type": "code",
   "execution_count": 15,
   "id": "8952a5a5",
   "metadata": {},
   "outputs": [
    {
     "data": {
      "text/html": [
       "<div>\n",
       "<style scoped>\n",
       "    .dataframe tbody tr th:only-of-type {\n",
       "        vertical-align: middle;\n",
       "    }\n",
       "\n",
       "    .dataframe tbody tr th {\n",
       "        vertical-align: top;\n",
       "    }\n",
       "\n",
       "    .dataframe thead th {\n",
       "        text-align: right;\n",
       "    }\n",
       "</style>\n",
       "<table border=\"1\" class=\"dataframe\">\n",
       "  <thead>\n",
       "    <tr style=\"text-align: right;\">\n",
       "      <th></th>\n",
       "      <th>ZONAS</th>\n",
       "      <th>EMPREGOS</th>\n",
       "      <th>ENSINO</th>\n",
       "      <th>POP</th>\n",
       "      <th>DOMICILIOS</th>\n",
       "      <th>PEA</th>\n",
       "    </tr>\n",
       "  </thead>\n",
       "  <tbody>\n",
       "    <tr>\n",
       "      <th>0</th>\n",
       "      <td>1</td>\n",
       "      <td>42585</td>\n",
       "      <td>327</td>\n",
       "      <td>483330</td>\n",
       "      <td>132420</td>\n",
       "      <td>473457</td>\n",
       "    </tr>\n",
       "    <tr>\n",
       "      <th>1</th>\n",
       "      <td>2</td>\n",
       "      <td>230621</td>\n",
       "      <td>697</td>\n",
       "      <td>855048</td>\n",
       "      <td>705679</td>\n",
       "      <td>141116</td>\n",
       "    </tr>\n",
       "    <tr>\n",
       "      <th>2</th>\n",
       "      <td>3</td>\n",
       "      <td>41957</td>\n",
       "      <td>264</td>\n",
       "      <td>325801</td>\n",
       "      <td>122293</td>\n",
       "      <td>91585</td>\n",
       "    </tr>\n",
       "    <tr>\n",
       "      <th>3</th>\n",
       "      <td>4</td>\n",
       "      <td>156704</td>\n",
       "      <td>673</td>\n",
       "      <td>1000086</td>\n",
       "      <td>829397</td>\n",
       "      <td>399884</td>\n",
       "    </tr>\n",
       "    <tr>\n",
       "      <th>4</th>\n",
       "      <td>5</td>\n",
       "      <td>60290</td>\n",
       "      <td>273</td>\n",
       "      <td>412396</td>\n",
       "      <td>348140</td>\n",
       "      <td>96418</td>\n",
       "    </tr>\n",
       "  </tbody>\n",
       "</table>\n",
       "</div>"
      ],
      "text/plain": [
       "   ZONAS  EMPREGOS  ENSINO      POP  DOMICILIOS     PEA\n",
       "0      1     42585     327   483330      132420  473457\n",
       "1      2    230621     697   855048      705679  141116\n",
       "2      3     41957     264   325801      122293   91585\n",
       "3      4    156704     673  1000086      829397  399884\n",
       "4      5     60290     273   412396      348140   96418"
      ]
     },
     "execution_count": 15,
     "metadata": {},
     "output_type": "execute_result"
    }
   ],
   "source": [
    "df_data = data.open_file('examples_databases\\input_geracao.xlsx', kwargs={'sheet_name':'DADOS'})\n",
    "df_data.head()"
   ]
  },
  {
   "cell_type": "code",
   "execution_count": 17,
   "id": "86705675",
   "metadata": {},
   "outputs": [
    {
     "data": {
      "text/html": [
       "<div>\n",
       "<style scoped>\n",
       "    .dataframe tbody tr th:only-of-type {\n",
       "        vertical-align: middle;\n",
       "    }\n",
       "\n",
       "    .dataframe tbody tr th {\n",
       "        vertical-align: top;\n",
       "    }\n",
       "\n",
       "    .dataframe thead th {\n",
       "        text-align: right;\n",
       "    }\n",
       "</style>\n",
       "<table border=\"1\" class=\"dataframe\">\n",
       "  <thead>\n",
       "    <tr style=\"text-align: right;\">\n",
       "      <th></th>\n",
       "      <th>ZONA</th>\n",
       "      <th>ATRA</th>\n",
       "      <th>PROD</th>\n",
       "      <th>EMPREGOS</th>\n",
       "      <th>ENSINO</th>\n",
       "      <th>POP</th>\n",
       "      <th>DOMICILIOS</th>\n",
       "      <th>PEA</th>\n",
       "    </tr>\n",
       "  </thead>\n",
       "  <tbody>\n",
       "    <tr>\n",
       "      <th>0</th>\n",
       "      <td>1</td>\n",
       "      <td>34768</td>\n",
       "      <td>45430</td>\n",
       "      <td>42585</td>\n",
       "      <td>327</td>\n",
       "      <td>483330</td>\n",
       "      <td>132420</td>\n",
       "      <td>473457</td>\n",
       "    </tr>\n",
       "    <tr>\n",
       "      <th>1</th>\n",
       "      <td>2</td>\n",
       "      <td>61501</td>\n",
       "      <td>58691</td>\n",
       "      <td>230621</td>\n",
       "      <td>697</td>\n",
       "      <td>855048</td>\n",
       "      <td>705679</td>\n",
       "      <td>141116</td>\n",
       "    </tr>\n",
       "    <tr>\n",
       "      <th>2</th>\n",
       "      <td>3</td>\n",
       "      <td>25362</td>\n",
       "      <td>35433</td>\n",
       "      <td>41957</td>\n",
       "      <td>264</td>\n",
       "      <td>325801</td>\n",
       "      <td>122293</td>\n",
       "      <td>91585</td>\n",
       "    </tr>\n",
       "    <tr>\n",
       "      <th>3</th>\n",
       "      <td>4</td>\n",
       "      <td>97055</td>\n",
       "      <td>96527</td>\n",
       "      <td>156704</td>\n",
       "      <td>673</td>\n",
       "      <td>1000086</td>\n",
       "      <td>829397</td>\n",
       "      <td>399884</td>\n",
       "    </tr>\n",
       "    <tr>\n",
       "      <th>4</th>\n",
       "      <td>5</td>\n",
       "      <td>35215</td>\n",
       "      <td>66098</td>\n",
       "      <td>60290</td>\n",
       "      <td>273</td>\n",
       "      <td>412396</td>\n",
       "      <td>348140</td>\n",
       "      <td>96418</td>\n",
       "    </tr>\n",
       "  </tbody>\n",
       "</table>\n",
       "</div>"
      ],
      "text/plain": [
       "   ZONA   ATRA   PROD  EMPREGOS  ENSINO      POP  DOMICILIOS     PEA\n",
       "0     1  34768  45430     42585     327   483330      132420  473457\n",
       "1     2  61501  58691    230621     697   855048      705679  141116\n",
       "2     3  25362  35433     41957     264   325801      122293   91585\n",
       "3     4  97055  96527    156704     673  1000086      829397  399884\n",
       "4     5  35215  66098     60290     273   412396      348140   96418"
      ]
     },
     "execution_count": 17,
     "metadata": {},
     "output_type": "execute_result"
    }
   ],
   "source": [
    "df = df_trip.merge(df_data.rename(columns={'ZONAS':'ZONA'}), how='outer')\n",
    "df.head()"
   ]
  },
  {
   "cell_type": "markdown",
   "id": "effa892f",
   "metadata": {},
   "source": [
    "## ATRACTION\n",
    "### Loop for all possibilities"
   ]
  },
  {
   "cell_type": "markdown",
   "id": "79f0934d",
   "metadata": {},
   "source": [
    "Perform a loop and find all possibilities that are significant\n",
    "* User parameter *mask* to remove zones that you want to treat as default outliers (airports zones for example)\n",
    "* *keepAll = True* returns even regressions that are not significant (with R^2 < CUT_R)"
   ]
  },
  {
   "cell_type": "code",
   "execution_count": 18,
   "id": "612d5936",
   "metadata": {},
   "outputs": [
    {
     "ename": "NameError",
     "evalue": "name 'linreg' is not defined",
     "output_type": "error",
     "traceback": [
      "\u001b[1;31m---------------------------------------------------------------------------\u001b[0m",
      "\u001b[1;31mNameError\u001b[0m                                 Traceback (most recent call last)",
      "\u001b[1;32m~\\AppData\\Local\\Temp\\ipykernel_7996\\3878531634.py\u001b[0m in \u001b[0;36m<module>\u001b[1;34m\u001b[0m\n\u001b[1;32m----> 1\u001b[1;33m \u001b[0mdf_regs\u001b[0m \u001b[1;33m=\u001b[0m \u001b[0mlinreg\u001b[0m\u001b[1;33m.\u001b[0m\u001b[0mloop_models\u001b[0m\u001b[1;33m(\u001b[0m\u001b[0mdf\u001b[0m\u001b[1;33m,\u001b[0m \u001b[0mXcols\u001b[0m\u001b[1;33m=\u001b[0m\u001b[1;33m[\u001b[0m\u001b[1;34m'EMPREGOS'\u001b[0m\u001b[1;33m,\u001b[0m\u001b[1;34m'ENSINO'\u001b[0m\u001b[1;33m]\u001b[0m\u001b[1;33m,\u001b[0m \u001b[0mYcol\u001b[0m\u001b[1;33m=\u001b[0m\u001b[1;34m'ATRA'\u001b[0m\u001b[1;33m,\u001b[0m \u001b[0mmask\u001b[0m\u001b[1;33m=\u001b[0m\u001b[1;32mNone\u001b[0m\u001b[1;33m,\u001b[0m \u001b[0mkeepAll\u001b[0m\u001b[1;33m=\u001b[0m\u001b[1;32mFalse\u001b[0m\u001b[1;33m,\u001b[0m \u001b[0mCUT_R\u001b[0m\u001b[1;33m=\u001b[0m\u001b[1;36m0.5\u001b[0m\u001b[1;33m,\u001b[0m \u001b[0mforce_intercept\u001b[0m\u001b[1;33m=\u001b[0m\u001b[1;32mFalse\u001b[0m\u001b[1;33m)\u001b[0m\u001b[1;33m\u001b[0m\u001b[1;33m\u001b[0m\u001b[0m\n\u001b[0m\u001b[0;32m      2\u001b[0m \u001b[0mdf_regs\u001b[0m\u001b[1;33m\u001b[0m\u001b[1;33m\u001b[0m\u001b[0m\n",
      "\u001b[1;31mNameError\u001b[0m: name 'linreg' is not defined"
     ]
    }
   ],
   "source": [
    "df_regs = linreg.loop_models(df, Xcols=['EMPREGOS','ENSINO'], Ycol='ATRA', mask=None, keepAll=False, CUT_R=0.5, force_intercept=False)\n",
    "df_regs"
   ]
  },
  {
   "cell_type": "markdown",
   "id": "a25d2612",
   "metadata": {},
   "source": [
    "### Choose better regression and get a report\n",
    "Use result to choose a nice regression and look all statistical results (*plot=True*) on a fancy HTML saved on *path*. "
   ]
  },
  {
   "cell_type": "code",
   "execution_count": null,
   "id": "dad0d50a",
   "metadata": {},
   "outputs": [],
   "source": [
    "model, model_out = fit_model(x=df[['EMPREGOS','ENSINO']], y=df['ATRA'], intercept=False, plot=True, path=os.getcwd())\n",
    "# model and model_out are *statsmodels 0.14.0 (+400)statsmodels.regression.linear_model.OLS* objects\n",
    "# model is the compleate model, with all the zones send to fit_model\n",
    "# model_out is the original model without outliers, chosen within a renge of removing upuntil 10% of records and choosing for the best one\n",
    "# check out the HTML file for better understanding\n",
    "model.params"
   ]
  },
  {
   "cell_type": "markdown",
   "id": "bf8aaaa0",
   "metadata": {},
   "source": [
    "## PRODUCTION\n",
    "Repeate the process"
   ]
  },
  {
   "cell_type": "code",
   "execution_count": 20,
   "id": "e80e49bd",
   "metadata": {},
   "outputs": [
    {
     "ename": "NameError",
     "evalue": "name 'linreg' is not defined",
     "output_type": "error",
     "traceback": [
      "\u001b[1;31m---------------------------------------------------------------------------\u001b[0m",
      "\u001b[1;31mNameError\u001b[0m                                 Traceback (most recent call last)",
      "\u001b[1;32m~\\AppData\\Local\\Temp\\ipykernel_7996\\3878531634.py\u001b[0m in \u001b[0;36m<module>\u001b[1;34m\u001b[0m\n\u001b[1;32m----> 1\u001b[1;33m \u001b[0mdf_regs\u001b[0m \u001b[1;33m=\u001b[0m \u001b[0mlinreg\u001b[0m\u001b[1;33m.\u001b[0m\u001b[0mloop_models\u001b[0m\u001b[1;33m(\u001b[0m\u001b[0mdf\u001b[0m\u001b[1;33m,\u001b[0m \u001b[0mXcols\u001b[0m\u001b[1;33m=\u001b[0m\u001b[1;33m[\u001b[0m\u001b[1;34m'EMPREGOS'\u001b[0m\u001b[1;33m,\u001b[0m\u001b[1;34m'ENSINO'\u001b[0m\u001b[1;33m]\u001b[0m\u001b[1;33m,\u001b[0m \u001b[0mYcol\u001b[0m\u001b[1;33m=\u001b[0m\u001b[1;34m'ATRA'\u001b[0m\u001b[1;33m,\u001b[0m \u001b[0mmask\u001b[0m\u001b[1;33m=\u001b[0m\u001b[1;32mNone\u001b[0m\u001b[1;33m,\u001b[0m \u001b[0mkeepAll\u001b[0m\u001b[1;33m=\u001b[0m\u001b[1;32mFalse\u001b[0m\u001b[1;33m,\u001b[0m \u001b[0mCUT_R\u001b[0m\u001b[1;33m=\u001b[0m\u001b[1;36m0.5\u001b[0m\u001b[1;33m,\u001b[0m \u001b[0mforce_intercept\u001b[0m\u001b[1;33m=\u001b[0m\u001b[1;32mFalse\u001b[0m\u001b[1;33m)\u001b[0m\u001b[1;33m\u001b[0m\u001b[1;33m\u001b[0m\u001b[0m\n\u001b[0m\u001b[0;32m      2\u001b[0m \u001b[0mdf_regs\u001b[0m\u001b[1;33m\u001b[0m\u001b[1;33m\u001b[0m\u001b[0m\n",
      "\u001b[1;31mNameError\u001b[0m: name 'linreg' is not defined"
     ]
    }
   ],
   "source": [
    "df_regs = linreg.loop_models(df, Xcols=['EMPREGOS','ENSINO'], Ycol='ATRA', mask=None, keepAll=False, CUT_R=0.5, force_intercept=False)\n",
    "df_regs"
   ]
  },
  {
   "cell_type": "code",
   "execution_count": null,
   "id": "15db1ba3",
   "metadata": {},
   "outputs": [],
   "source": [
    "model, model_out = fit_model(x=df[['POP', 'DOMICILIOS', 'PEA']], y=df['PROD'], intercept=True, plot=True, path=os.getcwd())\n"
   ]
  }
 ],
 "metadata": {
  "kernelspec": {
   "display_name": "Python [conda env:systra]",
   "language": "python",
   "name": "conda-env-systra-py"
  },
  "language_info": {
   "codemirror_mode": {
    "name": "ipython",
    "version": 3
   },
   "file_extension": ".py",
   "mimetype": "text/x-python",
   "name": "python",
   "nbconvert_exporter": "python",
   "pygments_lexer": "ipython3",
   "version": "3.7.11"
  }
 },
 "nbformat": 4,
 "nbformat_minor": 5
}
