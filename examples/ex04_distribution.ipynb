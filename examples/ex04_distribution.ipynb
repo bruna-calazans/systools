{
 "cells": [
  {
   "cell_type": "markdown",
   "id": "12d298a8",
   "metadata": {},
   "source": [
    "# Practic examples of Systools Distribution Module"
   ]
  },
  {
   "cell_type": "code",
   "execution_count": 1,
   "id": "67f35312",
   "metadata": {},
   "outputs": [],
   "source": [
    "# importing\n",
    "import sys\n",
    "import os\n",
    "\n",
    "sys.path.append(os.path.abspath(os.path.join('..')))\n",
    "\n",
    "from main.systool import data, distribution\n",
    "import pandas as pd"
   ]
  },
  {
   "cell_type": "markdown",
   "id": "054585eb",
   "metadata": {},
   "source": [
    "*distribution* is a module to perform the trip distribution, one of the steps of a Four Step Model on Transport Planning. The pce of code that we use was provided buy _Chetan Joshi_ and can be revised on the distribution.py file. \n",
    "\n",
    "Regarding the use of the availables functions it self, let's say that you have projections over dataset saved on a projections.csv and you also decided to use the regressions of the last step.\n",
    "\n",
    "Mind that all those are examples with toy data, so the regressions may not make sense on real life.\n"
   ]
  },
  {
   "cell_type": "code",
   "execution_count": 2,
   "id": "e22e40c6",
   "metadata": {},
   "outputs": [
    {
     "data": {
      "text/html": [
       "<div>\n",
       "<style scoped>\n",
       "    .dataframe tbody tr th:only-of-type {\n",
       "        vertical-align: middle;\n",
       "    }\n",
       "\n",
       "    .dataframe tbody tr th {\n",
       "        vertical-align: top;\n",
       "    }\n",
       "\n",
       "    .dataframe thead th {\n",
       "        text-align: right;\n",
       "    }\n",
       "</style>\n",
       "<table border=\"1\" class=\"dataframe\">\n",
       "  <thead>\n",
       "    <tr style=\"text-align: right;\">\n",
       "      <th></th>\n",
       "      <th>ZONAS\\tEMPREGOS\\tPOP\\tDOMICILIOS\\tPEA</th>\n",
       "    </tr>\n",
       "  </thead>\n",
       "  <tbody>\n",
       "    <tr>\n",
       "      <th>0</th>\n",
       "      <td>1\\t42.438\\t488.294\\t132.446\\t460.674</td>\n",
       "    </tr>\n",
       "    <tr>\n",
       "      <th>1</th>\n",
       "      <td>2\\t229.825\\t863.829\\t705.817\\t137.306</td>\n",
       "    </tr>\n",
       "    <tr>\n",
       "      <th>2</th>\n",
       "      <td>3\\t41.812\\t329.147\\t122.317\\t89.112</td>\n",
       "    </tr>\n",
       "    <tr>\n",
       "      <th>3</th>\n",
       "      <td>4\\t156.163\\t1010357\\t829.559\\t389.087</td>\n",
       "    </tr>\n",
       "    <tr>\n",
       "      <th>4</th>\n",
       "      <td>5\\t60.082\\t416.631\\t348.208\\t93.815</td>\n",
       "    </tr>\n",
       "  </tbody>\n",
       "</table>\n",
       "</div>"
      ],
      "text/plain": [
       "   ZONAS\\tEMPREGOS\\tPOP\\tDOMICILIOS\\tPEA\n",
       "0   1\\t42.438\\t488.294\\t132.446\\t460.674\n",
       "1  2\\t229.825\\t863.829\\t705.817\\t137.306\n",
       "2    3\\t41.812\\t329.147\\t122.317\\t89.112\n",
       "3  4\\t156.163\\t1010357\\t829.559\\t389.087\n",
       "4    5\\t60.082\\t416.631\\t348.208\\t93.815"
      ]
     },
     "execution_count": 2,
     "metadata": {},
     "output_type": "execute_result"
    }
   ],
   "source": [
    "df = data.open_file('examples_databases\\input_distribuicao.txt')\n",
    "df.head()"
   ]
  },
  {
   "cell_type": "markdown",
   "id": "d919fdd4",
   "metadata": {},
   "source": [
    "Stay alert! Always check what you are reading and investigate to resolve the problem."
   ]
  },
  {
   "cell_type": "code",
   "execution_count": 3,
   "id": "8f506df0",
   "metadata": {},
   "outputs": [
    {
     "name": "stdout",
     "output_type": "stream",
     "text": [
      "<class 'pandas.core.frame.DataFrame'>\n",
      "RangeIndex: 119 entries, 0 to 118\n",
      "Data columns (total 5 columns):\n",
      " #   Column      Non-Null Count  Dtype  \n",
      "---  ------      --------------  -----  \n",
      " 0   ZONAS       119 non-null    int64  \n",
      " 1   EMPREGOS    119 non-null    float64\n",
      " 2   POP         119 non-null    float64\n",
      " 3   DOMICILIOS  119 non-null    float64\n",
      " 4   PEA         119 non-null    float64\n",
      "dtypes: float64(4), int64(1)\n",
      "memory usage: 4.8 KB\n"
     ]
    }
   ],
   "source": [
    "df = data.open_file('examples_databases\\input_distribuicao.txt', kwargs={'sep':'\\t', 'decimal':'.'})\n",
    "df.info()"
   ]
  },
  {
   "cell_type": "markdown",
   "id": "844aa6b8",
   "metadata": {},
   "source": [
    "Now we need to generate our new ATRACTION and PRODUCTION vectors using our equations and projections for a future year\n",
    "\n",
    "> regressionATRA = +0.314 * **EMPREGOS**\n",
    "\n",
    "> regressionPROD = +0.019 * **PEA** +0.017 * **DOMICILIOS** +0.069 * **POP** +420.483"
   ]
  },
  {
   "cell_type": "code",
   "execution_count": 4,
   "id": "8952a5a5",
   "metadata": {},
   "outputs": [],
   "source": [
    "ATRA = 0.314 * df.EMPREGOS\n",
    "PROD = 0.019 * df.PEA + 0.017 * df.DOMICILIOS + 0.069 * df.POP + 420.483"
   ]
  },
  {
   "cell_type": "code",
   "execution_count": 5,
   "id": "f9050124",
   "metadata": {},
   "outputs": [
    {
     "data": {
      "text/plain": [
       "(119,)"
      ]
     },
     "execution_count": 5,
     "metadata": {},
     "output_type": "execute_result"
    }
   ],
   "source": [
    "ATRA.shape"
   ]
  },
  {
   "cell_type": "markdown",
   "id": "c954cc0f",
   "metadata": {},
   "source": [
    "Now that we have new vectors we can distribute them using any methodology available...\n",
    "\n",
    "* **CalcFratar** : Calculates a Fratar/IPF on a seed matrix given row and column (P and A) totals\n",
    "* **CalcSinglyConstrained** : Calculates a singly constrained trip distribution for given P/A vectors and a friction factor matrix\n",
    "* **CalcDoublyConstrained** : Calculates a doubly constrained trip distribution for given P/A vectors and a friction factor matrix (P and A should be balanced before usage, if not then A is scaled to P)\n",
    "* **CalcMultiFratar** : Applies fratar model to given set of trip matrices with multiple target production vectors and one attraction vector\n",
    "* **CalcMultiDistribute** : Applies gravity model to a given set of frication matrices with multiple production vectors and one target attraction vector\n",
    "\n",
    "\n",
    "You can always use help(function name) to understand better the paramters\n"
   ]
  },
  {
   "cell_type": "code",
   "execution_count": 6,
   "id": "86705675",
   "metadata": {},
   "outputs": [
    {
     "name": "stdout",
     "output_type": "stream",
     "text": [
      "Help on function calc_fratar in module main.systool.distribution:\n",
      "\n",
      "calc_fratar(prod_a, attr_a, trips_1, max_iter=10, print_balance=False)\n",
      "    Calculates fratar trip distribution\n",
      "       prod_a = Production target as array\n",
      "       attr_a = attr_action target as array\n",
      "       trips_1 = Seed trip table for fratar\n",
      "       max_iter (optional) = maximum iterations, default is 10\n",
      "       Returns fratared trip table\n",
      "\n"
     ]
    }
   ],
   "source": [
    "help(distribution.calc_fratar)"
   ]
  },
  {
   "cell_type": "code",
   "execution_count": 7,
   "id": "4e54aea5",
   "metadata": {
    "scrolled": true
   },
   "outputs": [
    {
     "data": {
      "text/html": [
       "<div>\n",
       "<style scoped>\n",
       "    .dataframe tbody tr th:only-of-type {\n",
       "        vertical-align: middle;\n",
       "    }\n",
       "\n",
       "    .dataframe tbody tr th {\n",
       "        vertical-align: top;\n",
       "    }\n",
       "\n",
       "    .dataframe thead th {\n",
       "        text-align: right;\n",
       "    }\n",
       "</style>\n",
       "<table border=\"1\" class=\"dataframe\">\n",
       "  <thead>\n",
       "    <tr style=\"text-align: right;\">\n",
       "      <th></th>\n",
       "      <th>ORIGEM</th>\n",
       "      <th>1</th>\n",
       "      <th>2</th>\n",
       "      <th>3</th>\n",
       "      <th>4</th>\n",
       "      <th>5</th>\n",
       "      <th>6</th>\n",
       "      <th>7</th>\n",
       "      <th>8</th>\n",
       "      <th>9</th>\n",
       "      <th>...</th>\n",
       "      <th>110</th>\n",
       "      <th>111</th>\n",
       "      <th>112</th>\n",
       "      <th>113</th>\n",
       "      <th>114</th>\n",
       "      <th>115</th>\n",
       "      <th>116</th>\n",
       "      <th>117</th>\n",
       "      <th>118</th>\n",
       "      <th>119</th>\n",
       "    </tr>\n",
       "  </thead>\n",
       "  <tbody>\n",
       "    <tr>\n",
       "      <th>0</th>\n",
       "      <td>1</td>\n",
       "      <td>93</td>\n",
       "      <td>46</td>\n",
       "      <td>154</td>\n",
       "      <td>139</td>\n",
       "      <td>14</td>\n",
       "      <td>178</td>\n",
       "      <td>95</td>\n",
       "      <td>76</td>\n",
       "      <td>74</td>\n",
       "      <td>...</td>\n",
       "      <td>121</td>\n",
       "      <td>97</td>\n",
       "      <td>179</td>\n",
       "      <td>63</td>\n",
       "      <td>135</td>\n",
       "      <td>23</td>\n",
       "      <td>32</td>\n",
       "      <td>105</td>\n",
       "      <td>64</td>\n",
       "      <td>29</td>\n",
       "    </tr>\n",
       "    <tr>\n",
       "      <th>1</th>\n",
       "      <td>2</td>\n",
       "      <td>92</td>\n",
       "      <td>143</td>\n",
       "      <td>192</td>\n",
       "      <td>165</td>\n",
       "      <td>18</td>\n",
       "      <td>109</td>\n",
       "      <td>57</td>\n",
       "      <td>192</td>\n",
       "      <td>15</td>\n",
       "      <td>...</td>\n",
       "      <td>158</td>\n",
       "      <td>64</td>\n",
       "      <td>69</td>\n",
       "      <td>48</td>\n",
       "      <td>160</td>\n",
       "      <td>168</td>\n",
       "      <td>94</td>\n",
       "      <td>32</td>\n",
       "      <td>33</td>\n",
       "      <td>175</td>\n",
       "    </tr>\n",
       "    <tr>\n",
       "      <th>2</th>\n",
       "      <td>3</td>\n",
       "      <td>64</td>\n",
       "      <td>131</td>\n",
       "      <td>169</td>\n",
       "      <td>76</td>\n",
       "      <td>128</td>\n",
       "      <td>197</td>\n",
       "      <td>168</td>\n",
       "      <td>48</td>\n",
       "      <td>102</td>\n",
       "      <td>...</td>\n",
       "      <td>81</td>\n",
       "      <td>95</td>\n",
       "      <td>32</td>\n",
       "      <td>140</td>\n",
       "      <td>114</td>\n",
       "      <td>26</td>\n",
       "      <td>107</td>\n",
       "      <td>17</td>\n",
       "      <td>42</td>\n",
       "      <td>160</td>\n",
       "    </tr>\n",
       "    <tr>\n",
       "      <th>3</th>\n",
       "      <td>4</td>\n",
       "      <td>150</td>\n",
       "      <td>29</td>\n",
       "      <td>194</td>\n",
       "      <td>193</td>\n",
       "      <td>34</td>\n",
       "      <td>17</td>\n",
       "      <td>132</td>\n",
       "      <td>178</td>\n",
       "      <td>108</td>\n",
       "      <td>...</td>\n",
       "      <td>63</td>\n",
       "      <td>101</td>\n",
       "      <td>48</td>\n",
       "      <td>113</td>\n",
       "      <td>162</td>\n",
       "      <td>145</td>\n",
       "      <td>196</td>\n",
       "      <td>200</td>\n",
       "      <td>155</td>\n",
       "      <td>98</td>\n",
       "    </tr>\n",
       "    <tr>\n",
       "      <th>4</th>\n",
       "      <td>5</td>\n",
       "      <td>108</td>\n",
       "      <td>59</td>\n",
       "      <td>196</td>\n",
       "      <td>187</td>\n",
       "      <td>105</td>\n",
       "      <td>70</td>\n",
       "      <td>90</td>\n",
       "      <td>152</td>\n",
       "      <td>50</td>\n",
       "      <td>...</td>\n",
       "      <td>54</td>\n",
       "      <td>12</td>\n",
       "      <td>190</td>\n",
       "      <td>58</td>\n",
       "      <td>84</td>\n",
       "      <td>156</td>\n",
       "      <td>46</td>\n",
       "      <td>26</td>\n",
       "      <td>28</td>\n",
       "      <td>83</td>\n",
       "    </tr>\n",
       "  </tbody>\n",
       "</table>\n",
       "<p>5 rows × 120 columns</p>\n",
       "</div>"
      ],
      "text/plain": [
       "   ORIGEM    1    2    3    4    5    6    7    8    9  ...  110  111  112  \\\n",
       "0       1   93   46  154  139   14  178   95   76   74  ...  121   97  179   \n",
       "1       2   92  143  192  165   18  109   57  192   15  ...  158   64   69   \n",
       "2       3   64  131  169   76  128  197  168   48  102  ...   81   95   32   \n",
       "3       4  150   29  194  193   34   17  132  178  108  ...   63  101   48   \n",
       "4       5  108   59  196  187  105   70   90  152   50  ...   54   12  190   \n",
       "\n",
       "   113  114  115  116  117  118  119  \n",
       "0   63  135   23   32  105   64   29  \n",
       "1   48  160  168   94   32   33  175  \n",
       "2  140  114   26  107   17   42  160  \n",
       "3  113  162  145  196  200  155   98  \n",
       "4   58   84  156   46   26   28   83  \n",
       "\n",
       "[5 rows x 120 columns]"
      ]
     },
     "execution_count": 7,
     "metadata": {},
     "output_type": "execute_result"
    }
   ],
   "source": [
    "df = data.open_file('examples_databases\\input_geracao.xlsx', kwargs={'sheet_name':'Friction'})\n",
    "df.head()"
   ]
  },
  {
   "cell_type": "code",
   "execution_count": 8,
   "id": "b535fe01",
   "metadata": {},
   "outputs": [],
   "source": [
    "df.set_index('ORIGEM', inplace=True)"
   ]
  },
  {
   "cell_type": "code",
   "execution_count": 9,
   "id": "b870e340",
   "metadata": {},
   "outputs": [],
   "source": [
    "# attention! the parameters of distribution module are Numpy.Arrays not DataFrames\n",
    "mtx = distribution.calc_fratar(PROD.values, ATRA.values, df.values)"
   ]
  },
  {
   "cell_type": "markdown",
   "id": "a4e2a684",
   "metadata": {},
   "source": [
    "You can save your matrix result and keep working on your python skills or modelling!"
   ]
  },
  {
   "cell_type": "code",
   "execution_count": 10,
   "id": "29b80294",
   "metadata": {},
   "outputs": [
    {
     "data": {
      "text/plain": [
       "array([[2.21116490e+00, 7.96043351e+00, 3.93110639e+00, ...,\n",
       "        1.43823812e-01, 1.08456199e+00, 3.89568391e-01],\n",
       "       [2.05429384e+00, 2.32408216e+01, 4.60290338e+00, ...,\n",
       "        4.11649912e-02, 5.25200221e-01, 2.20780298e+00],\n",
       "       [1.40324706e+00, 2.09057699e+01, 3.97829298e+00, ...,\n",
       "        2.14736762e-02, 6.56356333e-01, 1.98208228e+00],\n",
       "       ...,\n",
       "       [2.49008225e+00, 1.84638396e+01, 9.69120092e-01, ...,\n",
       "        2.68978940e-02, 1.38656409e+00, 1.29258340e+00],\n",
       "       [3.28834838e-01, 1.33133868e+01, 2.84644924e+00, ...,\n",
       "        1.36162963e-01, 3.66213266e-01, 1.28892708e+00],\n",
       "       [1.63786574e+00, 1.96699360e+01, 2.11016025e+00, ...,\n",
       "        1.59466079e-01, 1.72773145e+00, 8.32852971e-01]])"
      ]
     },
     "execution_count": 10,
     "metadata": {},
     "output_type": "execute_result"
    }
   ],
   "source": [
    "mtx"
   ]
  }
 ],
 "metadata": {
  "kernelspec": {
   "display_name": "Python [conda env:sys_brazil]",
   "language": "python",
   "name": "conda-env-sys_brazil-py"
  },
  "language_info": {
   "codemirror_mode": {
    "name": "ipython",
    "version": 3
   },
   "file_extension": ".py",
   "mimetype": "text/x-python",
   "name": "python",
   "nbconvert_exporter": "python",
   "pygments_lexer": "ipython3",
   "version": "3.8.13"
  }
 },
 "nbformat": 4,
 "nbformat_minor": 5
}
