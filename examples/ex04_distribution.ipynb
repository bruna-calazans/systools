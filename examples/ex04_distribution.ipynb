{
 "cells": [
  {
   "cell_type": "markdown",
   "id": "12d298a8",
   "metadata": {},
   "source": [
    "# Practic examples of Systools - Distribution module¶"
   ]
  },
  {
   "cell_type": "code",
   "execution_count": 2,
   "id": "67f35312",
   "metadata": {},
   "outputs": [],
   "source": [
    "# importing\n",
    "import sys\n",
    "import os\n",
    "\n",
    "sys.path.append(os.path.abspath(os.path.join('..')))\n",
    "\n",
    "from systool import data, distribution\n",
    "import pandas as pd"
   ]
  },
  {
   "cell_type": "markdown",
   "id": "054585eb",
   "metadata": {},
   "source": [
    "*distribution* is a module to perform the trip distribution, one of the steps of a Four Step Model on Transport Planning. The pce of code that we use was provided buy _Chetan Joshi_ and can be revised on the distribution.py file. \n",
    "\n",
    "Regarding the use of the availables functions it self, let's say that you have projections over dataset saved on a projections.csv and you also decided to use the regressions of the last step.\n",
    "\n",
    "Mind that all those are examples with toy data, so the regressions may not make sense on real life.\n"
   ]
  },
  {
   "cell_type": "code",
   "execution_count": null,
   "id": "f611e497",
   "metadata": {},
   "outputs": [],
   "source": []
  },
  {
   "cell_type": "code",
   "execution_count": 7,
   "id": "e22e40c6",
   "metadata": {},
   "outputs": [
    {
     "data": {
      "text/html": [
       "<div>\n",
       "<style scoped>\n",
       "    .dataframe tbody tr th:only-of-type {\n",
       "        vertical-align: middle;\n",
       "    }\n",
       "\n",
       "    .dataframe tbody tr th {\n",
       "        vertical-align: top;\n",
       "    }\n",
       "\n",
       "    .dataframe thead th {\n",
       "        text-align: right;\n",
       "    }\n",
       "</style>\n",
       "<table border=\"1\" class=\"dataframe\">\n",
       "  <thead>\n",
       "    <tr style=\"text-align: right;\">\n",
       "      <th></th>\n",
       "      <th>ZONAS\\tEMPREGOS\\tPOP\\tDOMICILIOS\\tPEA</th>\n",
       "    </tr>\n",
       "  </thead>\n",
       "  <tbody>\n",
       "    <tr>\n",
       "      <th>0</th>\n",
       "      <td>1\\t42.438\\t488.294\\t132.446\\t460.674</td>\n",
       "    </tr>\n",
       "    <tr>\n",
       "      <th>1</th>\n",
       "      <td>2\\t229.825\\t863.829\\t705.817\\t137.306</td>\n",
       "    </tr>\n",
       "    <tr>\n",
       "      <th>2</th>\n",
       "      <td>3\\t41.812\\t329.147\\t122.317\\t89.112</td>\n",
       "    </tr>\n",
       "    <tr>\n",
       "      <th>3</th>\n",
       "      <td>4\\t156.163\\t1.010.357\\t829.559\\t389.087</td>\n",
       "    </tr>\n",
       "    <tr>\n",
       "      <th>4</th>\n",
       "      <td>5\\t60.082\\t416.631\\t348.208\\t93.815</td>\n",
       "    </tr>\n",
       "  </tbody>\n",
       "</table>\n",
       "</div>"
      ],
      "text/plain": [
       "    ZONAS\\tEMPREGOS\\tPOP\\tDOMICILIOS\\tPEA \n",
       "0     1\\t42.438\\t488.294\\t132.446\\t460.674\n",
       "1    2\\t229.825\\t863.829\\t705.817\\t137.306\n",
       "2      3\\t41.812\\t329.147\\t122.317\\t89.112\n",
       "3  4\\t156.163\\t1.010.357\\t829.559\\t389.087\n",
       "4      5\\t60.082\\t416.631\\t348.208\\t93.815"
      ]
     },
     "execution_count": 7,
     "metadata": {},
     "output_type": "execute_result"
    }
   ],
   "source": [
    "df = data.open_file('examples_databases\\input_distribuicao.txt')\n",
    "df.head()"
   ]
  },
  {
   "cell_type": "markdown",
   "id": "d919fdd4",
   "metadata": {},
   "source": [
    "Stay alert! Always check what you are reading and investigate to resolve the problem."
   ]
  },
  {
   "cell_type": "code",
   "execution_count": 27,
   "id": "8f506df0",
   "metadata": {},
   "outputs": [
    {
     "name": "stdout",
     "output_type": "stream",
     "text": [
      "<class 'pandas.core.frame.DataFrame'>\n",
      "Int64Index: 119 entries, 0 to 118\n",
      "Data columns (total 5 columns):\n",
      " #   Column      Non-Null Count  Dtype  \n",
      "---  ------      --------------  -----  \n",
      " 0   ZONAS       119 non-null    int64  \n",
      " 1   EMPREGOS    119 non-null    float64\n",
      " 2   POP         119 non-null    float64\n",
      " 3   DOMICILIOS  119 non-null    float64\n",
      " 4   PEA         119 non-null    float64\n",
      "dtypes: float64(4), int64(1)\n",
      "memory usage: 5.6 KB\n"
     ]
    }
   ],
   "source": [
    "df = data.open_file('examples_databases\\input_distribuicao.txt', kwargs={'sep':'\\t', 'decimal':'.'})\n",
    "df.info()"
   ]
  },
  {
   "cell_type": "markdown",
   "id": "844aa6b8",
   "metadata": {},
   "source": [
    "Now we need to generate our new ATRACTION and PRODUCTION vectors using our equations and projections for a future year\n",
    "\n",
    "> regressionATRA = +0.314 * **EMPREGOS**\n",
    "\n",
    "> regressionPROD = +0.019 * **PEA** +0.017 * **DOMICILIOS** +0.069 * **POP** +420.483"
   ]
  },
  {
   "cell_type": "code",
   "execution_count": 28,
   "id": "8952a5a5",
   "metadata": {},
   "outputs": [],
   "source": [
    "ATRA = 0.314 * df.EMPREGOS\n",
    "PROD = 0.019 * df.PEA + 0.017 * df.DOMICILIOS +0.069 * df.POP +420.483"
   ]
  },
  {
   "cell_type": "markdown",
   "id": "c954cc0f",
   "metadata": {},
   "source": [
    "Now that we have new vectors we can distribute them using any methodology available...\n",
    "\n",
    "* **CalcFratar** : Calculates a Fratar/IPF on a seed matrix given row and column (P and A) totals\n",
    "* **CalcSinglyConstrained** : Calculates a singly constrained trip distribution for given P/A vectors and a friction factor matrix\n",
    "* **CalcDoublyConstrained** : Calculates a doubly constrained trip distribution for given P/A vectors and a friction factor matrix (P and A should be balanced before usage, if not then A is scaled to P)\n",
    "* **CalcMultiFratar** : Applies fratar model to given set of trip matrices with multiple target production vectors and one attraction vector\n",
    "* **CalcMultiDistribute** : Applies gravity model to a given set of frication matrices with multiple production vectors and one target attraction vector\n",
    "\n",
    "\n",
    "You can always use help(function name) to understand better the paramters\n"
   ]
  },
  {
   "cell_type": "code",
   "execution_count": 29,
   "id": "86705675",
   "metadata": {},
   "outputs": [
    {
     "name": "stdout",
     "output_type": "stream",
     "text": [
      "Help on function CalcFratar in module systool.distribution:\n",
      "\n",
      "CalcFratar(ProdA, AttrA, Trips1, maxIter=10, print_balance=False)\n",
      "    Calculates fratar trip distribution\n",
      "    ProdA = Production target as array\n",
      "    AttrA = Attraction target as array\n",
      "    Trips1 = Seed trip table for fratar\n",
      "    maxIter (optional) = maximum iterations, default is 10\n",
      "    Returns fratared trip table\n",
      "\n"
     ]
    }
   ],
   "source": [
    "help(distribution.CalcFratar)"
   ]
  },
  {
   "cell_type": "code",
   "execution_count": 30,
   "id": "4e54aea5",
   "metadata": {},
   "outputs": [
    {
     "ename": "AttributeError",
     "evalue": "'int' object has no attribute 'startswith'",
     "output_type": "error",
     "traceback": [
      "\u001b[1;31m---------------------------------------------------------------------------\u001b[0m",
      "\u001b[1;31mAttributeError\u001b[0m                            Traceback (most recent call last)",
      "\u001b[1;32m~\\AppData\\Local\\Temp\\ipykernel_21148\\2415909048.py\u001b[0m in \u001b[0;36m<module>\u001b[1;34m\u001b[0m\n\u001b[1;32m----> 1\u001b[1;33m \u001b[0mdf_F\u001b[0m \u001b[1;33m=\u001b[0m \u001b[0mdata\u001b[0m\u001b[1;33m.\u001b[0m\u001b[0mopen_file\u001b[0m\u001b[1;33m(\u001b[0m\u001b[1;34m'examples_databases\\input_geracao.xlsx'\u001b[0m\u001b[1;33m,\u001b[0m \u001b[0mkwargs\u001b[0m\u001b[1;33m=\u001b[0m\u001b[1;33m{\u001b[0m\u001b[1;34m'sheet_name'\u001b[0m\u001b[1;33m:\u001b[0m\u001b[1;34m'Friction'\u001b[0m\u001b[1;33m}\u001b[0m\u001b[1;33m)\u001b[0m\u001b[1;33m\u001b[0m\u001b[1;33m\u001b[0m\u001b[0m\n\u001b[0m\u001b[0;32m      2\u001b[0m \u001b[0mdf_F\u001b[0m\u001b[1;33m.\u001b[0m\u001b[0mhead\u001b[0m\u001b[1;33m(\u001b[0m\u001b[1;33m)\u001b[0m\u001b[1;33m\u001b[0m\u001b[1;33m\u001b[0m\u001b[0m\n",
      "\u001b[1;32mC:\\python\\systools\\systool\\data.py\u001b[0m in \u001b[0;36mopen_file\u001b[1;34m(path, name, expected_cols, usa, col_td_prefix, col_dt_prefix, **kwargs)\u001b[0m\n\u001b[0;32m    132\u001b[0m \u001b[1;33m\u001b[0m\u001b[0m\n\u001b[0;32m    133\u001b[0m     \u001b[1;31m# Configure Formats\u001b[0m\u001b[1;33m\u001b[0m\u001b[1;33m\u001b[0m\u001b[1;33m\u001b[0m\u001b[0m\n\u001b[1;32m--> 134\u001b[1;33m     \u001b[0mdf\u001b[0m \u001b[1;33m=\u001b[0m \u001b[0mdataframe2numeric\u001b[0m\u001b[1;33m(\u001b[0m\u001b[0mdf\u001b[0m\u001b[1;33m,\u001b[0m \u001b[0mcol_dt_prefix\u001b[0m\u001b[1;33m,\u001b[0m \u001b[0mcol_td_prefix\u001b[0m\u001b[1;33m)\u001b[0m\u001b[1;33m\u001b[0m\u001b[1;33m\u001b[0m\u001b[0m\n\u001b[0m\u001b[0;32m    135\u001b[0m     \u001b[1;32mreturn\u001b[0m \u001b[0mdf\u001b[0m\u001b[1;33m\u001b[0m\u001b[1;33m\u001b[0m\u001b[0m\n\u001b[0;32m    136\u001b[0m \u001b[1;33m\u001b[0m\u001b[0m\n",
      "\u001b[1;32mC:\\python\\systools\\systool\\data.py\u001b[0m in \u001b[0;36mdataframe2numeric\u001b[1;34m(df, col_dt_preffix, col_td_preffix)\u001b[0m\n\u001b[0;32m     54\u001b[0m     \u001b[1;32mif\u001b[0m \u001b[0mcol_dt_preffix\u001b[0m \u001b[1;33m!=\u001b[0m \u001b[1;34m''\u001b[0m\u001b[1;33m:\u001b[0m\u001b[1;33m\u001b[0m\u001b[1;33m\u001b[0m\u001b[0m\n\u001b[0;32m     55\u001b[0m \u001b[1;33m\u001b[0m\u001b[0m\n\u001b[1;32m---> 56\u001b[1;33m         \u001b[0mcols_dt\u001b[0m \u001b[1;33m=\u001b[0m \u001b[1;33m[\u001b[0m\u001b[0mcol\u001b[0m \u001b[1;32mfor\u001b[0m \u001b[0mcol\u001b[0m \u001b[1;32min\u001b[0m \u001b[0mall_cols\u001b[0m \u001b[1;32mif\u001b[0m \u001b[0mcol\u001b[0m\u001b[1;33m.\u001b[0m\u001b[0mstartswith\u001b[0m\u001b[1;33m(\u001b[0m\u001b[0mcol_dt_preffix\u001b[0m\u001b[1;33m)\u001b[0m\u001b[1;33m]\u001b[0m\u001b[1;33m\u001b[0m\u001b[1;33m\u001b[0m\u001b[0m\n\u001b[0m\u001b[0;32m     57\u001b[0m \u001b[1;33m\u001b[0m\u001b[0m\n\u001b[0;32m     58\u001b[0m     \u001b[1;32melse\u001b[0m\u001b[1;33m:\u001b[0m\u001b[1;33m\u001b[0m\u001b[1;33m\u001b[0m\u001b[0m\n",
      "\u001b[1;32mC:\\python\\systools\\systool\\data.py\u001b[0m in \u001b[0;36m<listcomp>\u001b[1;34m(.0)\u001b[0m\n\u001b[0;32m     54\u001b[0m     \u001b[1;32mif\u001b[0m \u001b[0mcol_dt_preffix\u001b[0m \u001b[1;33m!=\u001b[0m \u001b[1;34m''\u001b[0m\u001b[1;33m:\u001b[0m\u001b[1;33m\u001b[0m\u001b[1;33m\u001b[0m\u001b[0m\n\u001b[0;32m     55\u001b[0m \u001b[1;33m\u001b[0m\u001b[0m\n\u001b[1;32m---> 56\u001b[1;33m         \u001b[0mcols_dt\u001b[0m \u001b[1;33m=\u001b[0m \u001b[1;33m[\u001b[0m\u001b[0mcol\u001b[0m \u001b[1;32mfor\u001b[0m \u001b[0mcol\u001b[0m \u001b[1;32min\u001b[0m \u001b[0mall_cols\u001b[0m \u001b[1;32mif\u001b[0m \u001b[0mcol\u001b[0m\u001b[1;33m.\u001b[0m\u001b[0mstartswith\u001b[0m\u001b[1;33m(\u001b[0m\u001b[0mcol_dt_preffix\u001b[0m\u001b[1;33m)\u001b[0m\u001b[1;33m]\u001b[0m\u001b[1;33m\u001b[0m\u001b[1;33m\u001b[0m\u001b[0m\n\u001b[0m\u001b[0;32m     57\u001b[0m \u001b[1;33m\u001b[0m\u001b[0m\n\u001b[0;32m     58\u001b[0m     \u001b[1;32melse\u001b[0m\u001b[1;33m:\u001b[0m\u001b[1;33m\u001b[0m\u001b[1;33m\u001b[0m\u001b[0m\n",
      "\u001b[1;31mAttributeError\u001b[0m: 'int' object has no attribute 'startswith'"
     ]
    }
   ],
   "source": [
    "df = data.open_file('examples_databases\\input_geracao.xlsx', kwargs={'sheet_name':'Friction'})\n",
    "df_F.head()"
   ]
  },
  {
   "cell_type": "code",
   "execution_count": null,
   "id": "b870e340",
   "metadata": {},
   "outputs": [],
   "source": [
    " # attention! the parameters of distribution module are Numpy.Arrays not DataFrames\n",
    "mtx = CalcSinglyConstrained(PROD, ATRA, df_F.values)"
   ]
  },
  {
   "cell_type": "markdown",
   "id": "a4e2a684",
   "metadata": {},
   "source": [
    "You can save your matrix result and keep working on your python skills or modelling!"
   ]
  },
  {
   "cell_type": "code",
   "execution_count": null,
   "id": "29b80294",
   "metadata": {},
   "outputs": [],
   "source": []
  }
 ],
 "metadata": {
  "kernelspec": {
   "display_name": "Python 3 (ipykernel)",
   "language": "python",
   "name": "python3"
  },
  "language_info": {
   "codemirror_mode": {
    "name": "ipython",
    "version": 3
   },
   "file_extension": ".py",
   "mimetype": "text/x-python",
   "name": "python",
   "nbconvert_exporter": "python",
   "pygments_lexer": "ipython3",
   "version": "3.7.11"
  }
 },
 "nbformat": 4,
 "nbformat_minor": 5
}
