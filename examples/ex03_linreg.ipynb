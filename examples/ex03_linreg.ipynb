{
 "cells": [
  {
   "cell_type": "markdown",
   "id": "4f22d7a2",
   "metadata": {},
   "source": [
    "# Practic examples of Systools - Linear regression module¶"
   ]
  },
  {
   "cell_type": "code",
   "execution_count": 1,
   "id": "67f35312",
   "metadata": {},
   "outputs": [],
   "source": [
    "# importing\n",
    "import sys\n",
    "import os\n",
    "\n",
    "sys.path.append(os.path.abspath(os.path.join('..')))\n",
    "\n",
    "from systool import data, linreg\n",
    "import pandas as pd"
   ]
  },
  {
   "cell_type": "markdown",
   "id": "054585eb",
   "metadata": {},
   "source": [
    "*linreg* is a module to perform linear regression over a dataset.  On transport planning we may want to perform regression using multiple variables and choose the best combination. This module enables you to test all combinations (using **loop_model**)  and then you can choose the best one to analyse the details of the results (using **fit_model**)\n",
    "\n",
    "\n",
    "### First open data\n",
    "Is a good practice to check what you are reading. You can use _.head()_ to take a look on the \"head\" of the DataFrame"
   ]
  },
  {
   "cell_type": "code",
   "execution_count": 2,
   "id": "e22e40c6",
   "metadata": {},
   "outputs": [
    {
     "data": {
      "text/html": [
       "<div>\n",
       "<style scoped>\n",
       "    .dataframe tbody tr th:only-of-type {\n",
       "        vertical-align: middle;\n",
       "    }\n",
       "\n",
       "    .dataframe tbody tr th {\n",
       "        vertical-align: top;\n",
       "    }\n",
       "\n",
       "    .dataframe thead th {\n",
       "        text-align: right;\n",
       "    }\n",
       "</style>\n",
       "<table border=\"1\" class=\"dataframe\">\n",
       "  <thead>\n",
       "    <tr style=\"text-align: right;\">\n",
       "      <th></th>\n",
       "      <th>ZONA</th>\n",
       "      <th>ATRA</th>\n",
       "      <th>PROD</th>\n",
       "    </tr>\n",
       "  </thead>\n",
       "  <tbody>\n",
       "    <tr>\n",
       "      <th>0</th>\n",
       "      <td>1</td>\n",
       "      <td>34768</td>\n",
       "      <td>45430</td>\n",
       "    </tr>\n",
       "    <tr>\n",
       "      <th>1</th>\n",
       "      <td>2</td>\n",
       "      <td>61501</td>\n",
       "      <td>58691</td>\n",
       "    </tr>\n",
       "    <tr>\n",
       "      <th>2</th>\n",
       "      <td>3</td>\n",
       "      <td>25362</td>\n",
       "      <td>35433</td>\n",
       "    </tr>\n",
       "    <tr>\n",
       "      <th>3</th>\n",
       "      <td>4</td>\n",
       "      <td>97055</td>\n",
       "      <td>96527</td>\n",
       "    </tr>\n",
       "    <tr>\n",
       "      <th>4</th>\n",
       "      <td>5</td>\n",
       "      <td>35215</td>\n",
       "      <td>66098</td>\n",
       "    </tr>\n",
       "  </tbody>\n",
       "</table>\n",
       "</div>"
      ],
      "text/plain": [
       "   ZONA   ATRA   PROD\n",
       "0     1  34768  45430\n",
       "1     2  61501  58691\n",
       "2     3  25362  35433\n",
       "3     4  97055  96527\n",
       "4     5  35215  66098"
      ]
     },
     "execution_count": 2,
     "metadata": {},
     "output_type": "execute_result"
    }
   ],
   "source": [
    "df_trip = data.open_file('examples_databases\\input_geracao.xlsx', kwargs={'sheet_name':'VIAGENS'})\n",
    "df_trip.head()"
   ]
  },
  {
   "cell_type": "markdown",
   "id": "8953d317",
   "metadata": {},
   "source": [
    "or use _.info()_ to also check the dtypes"
   ]
  },
  {
   "cell_type": "code",
   "execution_count": 3,
   "id": "8952a5a5",
   "metadata": {},
   "outputs": [
    {
     "name": "stdout",
     "output_type": "stream",
     "text": [
      "<class 'pandas.core.frame.DataFrame'>\n",
      "RangeIndex: 119 entries, 0 to 118\n",
      "Data columns (total 6 columns):\n",
      " #   Column      Non-Null Count  Dtype\n",
      "---  ------      --------------  -----\n",
      " 0   ZONAS       119 non-null    int64\n",
      " 1   EMPREGOS    119 non-null    int64\n",
      " 2   ENSINO      119 non-null    int64\n",
      " 3   POP         119 non-null    int64\n",
      " 4   DOMICILIOS  119 non-null    int64\n",
      " 5   PEA         119 non-null    int64\n",
      "dtypes: int64(6)\n",
      "memory usage: 5.7 KB\n"
     ]
    }
   ],
   "source": [
    "df_data = data.open_file('examples_databases\\input_geracao.xlsx', kwargs={'sheet_name':'DADOS'})\n",
    "df_data.info()"
   ]
  },
  {
   "cell_type": "code",
   "execution_count": 4,
   "id": "86705675",
   "metadata": {},
   "outputs": [
    {
     "data": {
      "text/html": [
       "<div>\n",
       "<style scoped>\n",
       "    .dataframe tbody tr th:only-of-type {\n",
       "        vertical-align: middle;\n",
       "    }\n",
       "\n",
       "    .dataframe tbody tr th {\n",
       "        vertical-align: top;\n",
       "    }\n",
       "\n",
       "    .dataframe thead th {\n",
       "        text-align: right;\n",
       "    }\n",
       "</style>\n",
       "<table border=\"1\" class=\"dataframe\">\n",
       "  <thead>\n",
       "    <tr style=\"text-align: right;\">\n",
       "      <th></th>\n",
       "      <th>ZONA</th>\n",
       "      <th>ATRA</th>\n",
       "      <th>PROD</th>\n",
       "      <th>EMPREGOS</th>\n",
       "      <th>ENSINO</th>\n",
       "      <th>POP</th>\n",
       "      <th>DOMICILIOS</th>\n",
       "      <th>PEA</th>\n",
       "    </tr>\n",
       "  </thead>\n",
       "  <tbody>\n",
       "    <tr>\n",
       "      <th>0</th>\n",
       "      <td>1</td>\n",
       "      <td>34768</td>\n",
       "      <td>45430</td>\n",
       "      <td>42585</td>\n",
       "      <td>327</td>\n",
       "      <td>483330</td>\n",
       "      <td>132420</td>\n",
       "      <td>473457</td>\n",
       "    </tr>\n",
       "    <tr>\n",
       "      <th>1</th>\n",
       "      <td>2</td>\n",
       "      <td>61501</td>\n",
       "      <td>58691</td>\n",
       "      <td>230621</td>\n",
       "      <td>697</td>\n",
       "      <td>855048</td>\n",
       "      <td>705679</td>\n",
       "      <td>141116</td>\n",
       "    </tr>\n",
       "    <tr>\n",
       "      <th>2</th>\n",
       "      <td>3</td>\n",
       "      <td>25362</td>\n",
       "      <td>35433</td>\n",
       "      <td>41957</td>\n",
       "      <td>264</td>\n",
       "      <td>325801</td>\n",
       "      <td>122293</td>\n",
       "      <td>91585</td>\n",
       "    </tr>\n",
       "    <tr>\n",
       "      <th>3</th>\n",
       "      <td>4</td>\n",
       "      <td>97055</td>\n",
       "      <td>96527</td>\n",
       "      <td>156704</td>\n",
       "      <td>673</td>\n",
       "      <td>1000086</td>\n",
       "      <td>829397</td>\n",
       "      <td>399884</td>\n",
       "    </tr>\n",
       "    <tr>\n",
       "      <th>4</th>\n",
       "      <td>5</td>\n",
       "      <td>35215</td>\n",
       "      <td>66098</td>\n",
       "      <td>60290</td>\n",
       "      <td>273</td>\n",
       "      <td>412396</td>\n",
       "      <td>348140</td>\n",
       "      <td>96418</td>\n",
       "    </tr>\n",
       "  </tbody>\n",
       "</table>\n",
       "</div>"
      ],
      "text/plain": [
       "   ZONA   ATRA   PROD  EMPREGOS  ENSINO      POP  DOMICILIOS     PEA\n",
       "0     1  34768  45430     42585     327   483330      132420  473457\n",
       "1     2  61501  58691    230621     697   855048      705679  141116\n",
       "2     3  25362  35433     41957     264   325801      122293   91585\n",
       "3     4  97055  96527    156704     673  1000086      829397  399884\n",
       "4     5  35215  66098     60290     273   412396      348140   96418"
      ]
     },
     "execution_count": 4,
     "metadata": {},
     "output_type": "execute_result"
    }
   ],
   "source": [
    "df = df_trip.merge(df_data.rename(columns={'ZONAS':'ZONA'}), how='outer')\n",
    "df.head()"
   ]
  },
  {
   "cell_type": "markdown",
   "id": "effa892f",
   "metadata": {},
   "source": [
    "## ATRACTION\n",
    "### Loop for all possibilities"
   ]
  },
  {
   "cell_type": "markdown",
   "id": "79f0934d",
   "metadata": {},
   "source": [
    "Perform a loop and find all possibilities that are significant\n",
    "* User parameter *mask* to remove zones that you want to treat as default outliers (airports zones for example)\n",
    "* *keepAll = True* returns even regressions that are not significant (with R^2 < CUT_R)"
   ]
  },
  {
   "cell_type": "code",
   "execution_count": 5,
   "id": "612d5936",
   "metadata": {},
   "outputs": [
    {
     "name": "stdout",
     "output_type": "stream",
     "text": [
      "Default regressions performed with 100.0% of data\n"
     ]
    },
    {
     "name": "stderr",
     "output_type": "stream",
     "text": [
      "Getting combinations for all variables: 100%|████████████████████████████████████████████████████| 3/3 [00:00<?, ?it/s]\n"
     ]
    },
    {
     "name": "stdout",
     "output_type": "stream",
     "text": [
      "6 possibilites of regression to do!\n",
      "Get correlated pairs...\n"
     ]
    },
    {
     "name": "stderr",
     "output_type": "stream",
     "text": [
      "Droping combinations with correlated values...: 100%|██████████████████████████████████| 3/3 [00:00<00:00, 3003.08it/s]\n"
     ]
    },
    {
     "name": "stdout",
     "output_type": "stream",
     "text": [
      "3 non-correlated possibilities to do!\n"
     ]
    },
    {
     "name": "stderr",
     "output_type": "stream",
     "text": [
      "Making regressions...: 100%|█████████████████████████████████████████████████████████████| 3/3 [00:01<00:00,  1.65it/s]\n"
     ]
    },
    {
     "name": "stdout",
     "output_type": "stream",
     "text": [
      "    6 regressões decentes (R² > 0.5) foram geradas\n",
      "    1 regressões passaram nos testes\n"
     ]
    },
    {
     "ename": "TypeError",
     "evalue": "loop of ufunc does not support argument 0 of type float which has no callable rint method",
     "output_type": "error",
     "traceback": [
      "\u001b[1;31m---------------------------------------------------------------------------\u001b[0m",
      "\u001b[1;31mAttributeError\u001b[0m                            Traceback (most recent call last)",
      "\u001b[1;31mAttributeError\u001b[0m: 'float' object has no attribute 'rint'",
      "\nThe above exception was the direct cause of the following exception:\n",
      "\u001b[1;31mTypeError\u001b[0m                                 Traceback (most recent call last)",
      "Input \u001b[1;32mIn [5]\u001b[0m, in \u001b[0;36m<cell line: 1>\u001b[1;34m()\u001b[0m\n\u001b[1;32m----> 1\u001b[0m df_regs \u001b[38;5;241m=\u001b[39m \u001b[43mlinreg\u001b[49m\u001b[38;5;241;43m.\u001b[39;49m\u001b[43mloop_models\u001b[49m\u001b[43m(\u001b[49m\u001b[43mdf\u001b[49m\u001b[43m,\u001b[49m\u001b[43m \u001b[49m\u001b[43mXcols\u001b[49m\u001b[38;5;241;43m=\u001b[39;49m\u001b[43m[\u001b[49m\u001b[38;5;124;43m'\u001b[39;49m\u001b[38;5;124;43mEMPREGOS\u001b[39;49m\u001b[38;5;124;43m'\u001b[39;49m\u001b[43m,\u001b[49m\u001b[38;5;124;43m'\u001b[39;49m\u001b[38;5;124;43mENSINO\u001b[39;49m\u001b[38;5;124;43m'\u001b[39;49m\u001b[43m,\u001b[49m\u001b[38;5;124;43m'\u001b[39;49m\u001b[38;5;124;43mPEA\u001b[39;49m\u001b[38;5;124;43m'\u001b[39;49m\u001b[43m]\u001b[49m\u001b[43m,\u001b[49m\u001b[43m \u001b[49m\u001b[43mYcol\u001b[49m\u001b[38;5;241;43m=\u001b[39;49m\u001b[38;5;124;43m'\u001b[39;49m\u001b[38;5;124;43mATRA\u001b[39;49m\u001b[38;5;124;43m'\u001b[39;49m\u001b[43m,\u001b[49m\u001b[43m \u001b[49m\u001b[43mmask\u001b[49m\u001b[38;5;241;43m=\u001b[39;49m\u001b[38;5;28;43;01mNone\u001b[39;49;00m\u001b[43m,\u001b[49m\u001b[43m \u001b[49m\u001b[43mkeepAll\u001b[49m\u001b[38;5;241;43m=\u001b[39;49m\u001b[38;5;28;43;01mTrue\u001b[39;49;00m\u001b[43m,\u001b[49m\u001b[43m \u001b[49m\u001b[43mCUT_R\u001b[49m\u001b[38;5;241;43m=\u001b[39;49m\u001b[38;5;241;43m0.5\u001b[39;49m\u001b[43m,\u001b[49m\u001b[43m \u001b[49m\u001b[43mforce_intercept\u001b[49m\u001b[38;5;241;43m=\u001b[39;49m\u001b[38;5;28;43;01mFalse\u001b[39;49;00m\u001b[43m)\u001b[49m\n\u001b[0;32m      2\u001b[0m df_regs\n",
      "File \u001b[1;32m~\\PycharmProjects\\systools\\systool\\linreg.py:189\u001b[0m, in \u001b[0;36mloop_models\u001b[1;34m(df, Xcols, Ycol, mask, keepAll, CUT_R, force_intercept, kargs)\u001b[0m\n\u001b[0;32m    187\u001b[0m df_regs[\u001b[38;5;124m'\u001b[39m\u001b[38;5;124mnumXvars\u001b[39m\u001b[38;5;124m'\u001b[39m] \u001b[38;5;241m=\u001b[39m df_regs\u001b[38;5;241m.\u001b[39mx\u001b[38;5;241m.\u001b[39mstr\u001b[38;5;241m.\u001b[39mlen()\u001b[38;5;241m.\u001b[39mastype(\u001b[38;5;28mint\u001b[39m)\n\u001b[0;32m    188\u001b[0m df_regs[\u001b[38;5;124m'\u001b[39m\u001b[38;5;124mnumZones\u001b[39m\u001b[38;5;124m'\u001b[39m] \u001b[38;5;241m=\u001b[39m df_regs\u001b[38;5;241m.\u001b[39mZONAS\u001b[38;5;241m.\u001b[39mstr\u001b[38;5;241m.\u001b[39mlen()\n\u001b[1;32m--> 189\u001b[0m df_regs[\u001b[38;5;124m'\u001b[39m\u001b[38;5;124mRsquared\u001b[39m\u001b[38;5;124m'\u001b[39m] \u001b[38;5;241m=\u001b[39m \u001b[38;5;28;43mround\u001b[39;49m\u001b[43m(\u001b[49m\u001b[43mdf_regs\u001b[49m\u001b[43m[\u001b[49m\u001b[38;5;124;43m'\u001b[39;49m\u001b[38;5;124;43mRsquared\u001b[39;49m\u001b[38;5;124;43m'\u001b[39;49m\u001b[43m]\u001b[49m\u001b[43m,\u001b[49m\u001b[38;5;241;43m4\u001b[39;49m\u001b[43m)\u001b[49m\n\u001b[0;32m    190\u001b[0m df_regs\u001b[38;5;241m.\u001b[39msort_values(\u001b[38;5;124m'\u001b[39m\u001b[38;5;124mRsquared\u001b[39m\u001b[38;5;124m'\u001b[39m, ascending\u001b[38;5;241m=\u001b[39m\u001b[38;5;28;01mFalse\u001b[39;00m, inplace \u001b[38;5;241m=\u001b[39m\u001b[38;5;28;01mTrue\u001b[39;00m)\n\u001b[0;32m    192\u001b[0m \u001b[38;5;28;01mif\u001b[39;00m \u001b[38;5;28mlen\u001b[39m(df_regs) \u001b[38;5;241m>\u001b[39m \u001b[38;5;241m0\u001b[39m:\n\u001b[0;32m    193\u001b[0m     \u001b[38;5;66;03m# plot the R results  \u001b[39;00m\n",
      "File \u001b[1;32m~\\Anaconda3\\envs\\sys_brazil\\lib\\site-packages\\pandas\\core\\generic.py:1656\u001b[0m, in \u001b[0;36mNDFrame.__round__\u001b[1;34m(self, decimals)\u001b[0m\n\u001b[0;32m   1654\u001b[0m \u001b[38;5;129m@final\u001b[39m\n\u001b[0;32m   1655\u001b[0m \u001b[38;5;28;01mdef\u001b[39;00m \u001b[38;5;21m__round__\u001b[39m(\u001b[38;5;28mself\u001b[39m: NDFrameT, decimals: \u001b[38;5;28mint\u001b[39m \u001b[38;5;241m=\u001b[39m \u001b[38;5;241m0\u001b[39m) \u001b[38;5;241m-\u001b[39m\u001b[38;5;241m>\u001b[39m NDFrameT:\n\u001b[1;32m-> 1656\u001b[0m     \u001b[38;5;28;01mreturn\u001b[39;00m \u001b[38;5;28;43mself\u001b[39;49m\u001b[38;5;241;43m.\u001b[39;49m\u001b[43mround\u001b[49m\u001b[43m(\u001b[49m\u001b[43mdecimals\u001b[49m\u001b[43m)\u001b[49m\n",
      "File \u001b[1;32m~\\Anaconda3\\envs\\sys_brazil\\lib\\site-packages\\pandas\\core\\series.py:2442\u001b[0m, in \u001b[0;36mSeries.round\u001b[1;34m(self, decimals, *args, **kwargs)\u001b[0m\n\u001b[0;32m   2410\u001b[0m \u001b[38;5;124;03m\"\"\"\u001b[39;00m\n\u001b[0;32m   2411\u001b[0m \u001b[38;5;124;03mRound each value in a Series to the given number of decimals.\u001b[39;00m\n\u001b[0;32m   2412\u001b[0m \n\u001b[1;32m   (...)\u001b[0m\n\u001b[0;32m   2439\u001b[0m \u001b[38;5;124;03mdtype: float64\u001b[39;00m\n\u001b[0;32m   2440\u001b[0m \u001b[38;5;124;03m\"\"\"\u001b[39;00m\n\u001b[0;32m   2441\u001b[0m nv\u001b[38;5;241m.\u001b[39mvalidate_round(args, kwargs)\n\u001b[1;32m-> 2442\u001b[0m result \u001b[38;5;241m=\u001b[39m \u001b[38;5;28;43mself\u001b[39;49m\u001b[38;5;241;43m.\u001b[39;49m\u001b[43m_values\u001b[49m\u001b[38;5;241;43m.\u001b[39;49m\u001b[43mround\u001b[49m\u001b[43m(\u001b[49m\u001b[43mdecimals\u001b[49m\u001b[43m)\u001b[49m\n\u001b[0;32m   2443\u001b[0m result \u001b[38;5;241m=\u001b[39m \u001b[38;5;28mself\u001b[39m\u001b[38;5;241m.\u001b[39m_constructor(result, index\u001b[38;5;241m=\u001b[39m\u001b[38;5;28mself\u001b[39m\u001b[38;5;241m.\u001b[39mindex)\u001b[38;5;241m.\u001b[39m__finalize__(\n\u001b[0;32m   2444\u001b[0m     \u001b[38;5;28mself\u001b[39m, method\u001b[38;5;241m=\u001b[39m\u001b[38;5;124m\"\u001b[39m\u001b[38;5;124mround\u001b[39m\u001b[38;5;124m\"\u001b[39m\n\u001b[0;32m   2445\u001b[0m )\n\u001b[0;32m   2447\u001b[0m \u001b[38;5;28;01mreturn\u001b[39;00m result\n",
      "\u001b[1;31mTypeError\u001b[0m: loop of ufunc does not support argument 0 of type float which has no callable rint method"
     ]
    }
   ],
   "source": [
    "df_regs = linreg.loop_models(df, Xcols=['EMPREGOS','ENSINO','PEA'], Ycol='ATRA', mask=None, keepAll=True, CUT_R=0.5, force_intercept=False)\n",
    "df_regs"
   ]
  },
  {
   "cell_type": "markdown",
   "id": "a25d2612",
   "metadata": {},
   "source": [
    "### Choose better regression and get a report\n",
    "Use result to choose a nice regression and look all statistical results (*plot=True*) on a fancy HTML saved on *path*. "
   ]
  },
  {
   "cell_type": "code",
   "execution_count": null,
   "id": "dad0d50a",
   "metadata": {},
   "outputs": [],
   "source": [
    "model, model_out = linreg.fit_model(x=df[['EMPREGOS']], y=df['ATRA'], intercept=False, plot=True, path=os.getcwd())\n",
    "# model and model_out are *statsmodels 0.14.0 (+400)statsmodels.regression.linear_model.OLS* objects\n",
    "# model is the compleate model, with all the zones send to fit_model\n",
    "# model_out is the original model without outliers, chosen within a renge of removing upuntil 10% of records and choosing for the best one\n",
    "# check out the HTML file for better understanding\n",
    "model.params"
   ]
  },
  {
   "cell_type": "markdown",
   "id": "bf8aaaa0",
   "metadata": {},
   "source": [
    "## PRODUCTION\n",
    "Repeate the process"
   ]
  },
  {
   "cell_type": "code",
   "execution_count": null,
   "id": "e80e49bd",
   "metadata": {},
   "outputs": [],
   "source": [
    "df_regs = linreg.loop_models(df, Xcols=['POP', 'DOMICILIOS','PEA'], Ycol='PROD', mask=None, keepAll=False, CUT_R=0.5, force_intercept=False)\n",
    "df_regs"
   ]
  },
  {
   "cell_type": "code",
   "execution_count": null,
   "id": "15db1ba3",
   "metadata": {},
   "outputs": [],
   "source": [
    "# you can even check a regression that is not on the result above\n",
    "model, model_out = linreg.fit_model(x=df[['POP', 'DOMICILIOS', 'PEA']], y=df['PROD'], intercept=True, plot=True, path=os.getcwd())\n"
   ]
  },
  {
   "cell_type": "code",
   "execution_count": null,
   "id": "4083f128",
   "metadata": {},
   "outputs": [],
   "source": []
  }
 ],
 "metadata": {
  "kernelspec": {
   "display_name": "Python 3 (ipykernel)",
   "language": "python",
   "name": "python3"
  },
  "language_info": {
   "codemirror_mode": {
    "name": "ipython",
    "version": 3
   },
   "file_extension": ".py",
   "mimetype": "text/x-python",
   "name": "python",
   "nbconvert_exporter": "python",
   "pygments_lexer": "ipython3",
   "version": "3.8.13"
  }
 },
 "nbformat": 4,
 "nbformat_minor": 5
}
